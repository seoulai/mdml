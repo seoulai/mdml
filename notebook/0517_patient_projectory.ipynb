{
 "cells": [
  {
   "cell_type": "markdown",
   "metadata": {},
   "source": [
    "## Trajectory of a single patient"
   ]
  },
  {
   "cell_type": "markdown",
   "metadata": {},
   "source": [
    "References\n",
    "- https://github.com/MIT-LCP/mimic-workshop/blob/b27eee438a1f62d909dd30d1d458d3516f32b276/intro_to_mimic/01-example-patient-heart-failure.ipynb"
   ]
  },
  {
   "cell_type": "code",
   "execution_count": 1,
   "metadata": {},
   "outputs": [],
   "source": [
    "import numpy as np\n",
    "import pandas as pd\n",
    "import matplotlib.pyplot as plt\n",
    "%matplotlib inline"
   ]
  },
  {
   "cell_type": "code",
   "execution_count": 2,
   "metadata": {},
   "outputs": [],
   "source": [
    "import sys\n",
    "sys.path.insert(0, './db')\n",
    "import db_con\n",
    "import sqlalchemy"
   ]
  },
  {
   "cell_type": "markdown",
   "metadata": {},
   "source": [
    "#### Sepsis 환자(25030)의 ICU 기록 중 하나를 선택(276176)"
   ]
  },
  {
   "cell_type": "code",
   "execution_count": 3,
   "metadata": {},
   "outputs": [],
   "source": [
    "# load chartevents\n",
    "# chartevents contain variables such as heart rate, respiratory rate, temperature\n",
    "engine = db_con.get_engine()\n",
    "pat = pd.read_sql(\"\"\"\n",
    "                    SELECT de.icustay_id, de.mins, de.value, de.valuenum, de.itemid, di.label\n",
    "                    FROM (SELECT\n",
    "                            de.icustay_id,\n",
    "                            EXTRACT(MINUTE FROM de.charttime - (SELECT intime\n",
    "                                                              FROM icustays\n",
    "                                                              WHERE icustay_id = 256064)) AS mins,\n",
    "                            de.value,\n",
    "                            de.valuenum,\n",
    "                            de.itemid\n",
    "                          FROM chartevents de\n",
    "                          WHERE icustay_id = 256064) AS de\n",
    "                      INNER JOIN (SELECT\n",
    "                                    di.label,\n",
    "                                    di.itemid\n",
    "                                  FROM d_items di) AS di\n",
    "                        ON de.itemid = di.itemid\n",
    "                    ORDER BY mins;\n",
    "                    \"\"\", engine)"
   ]
  },
  {
   "cell_type": "code",
   "execution_count": 4,
   "metadata": {},
   "outputs": [
    {
     "data": {
      "text/html": [
       "<div>\n",
       "<style scoped>\n",
       "    .dataframe tbody tr th:only-of-type {\n",
       "        vertical-align: middle;\n",
       "    }\n",
       "\n",
       "    .dataframe tbody tr th {\n",
       "        vertical-align: top;\n",
       "    }\n",
       "\n",
       "    .dataframe thead th {\n",
       "        text-align: right;\n",
       "    }\n",
       "</style>\n",
       "<table border=\"1\" class=\"dataframe\">\n",
       "  <thead>\n",
       "    <tr style=\"text-align: right;\">\n",
       "      <th></th>\n",
       "      <th>icustay_id</th>\n",
       "      <th>mins</th>\n",
       "      <th>value</th>\n",
       "      <th>valuenum</th>\n",
       "      <th>itemid</th>\n",
       "      <th>label</th>\n",
       "    </tr>\n",
       "  </thead>\n",
       "  <tbody>\n",
       "    <tr>\n",
       "      <th>0</th>\n",
       "      <td>256064</td>\n",
       "      <td>0.0</td>\n",
       "      <td>69</td>\n",
       "      <td>69.0</td>\n",
       "      <td>220045</td>\n",
       "      <td>Heart Rate</td>\n",
       "    </tr>\n",
       "    <tr>\n",
       "      <th>1</th>\n",
       "      <td>256064</td>\n",
       "      <td>0.0</td>\n",
       "      <td>16</td>\n",
       "      <td>16.0</td>\n",
       "      <td>220210</td>\n",
       "      <td>Respiratory Rate</td>\n",
       "    </tr>\n",
       "    <tr>\n",
       "      <th>2</th>\n",
       "      <td>256064</td>\n",
       "      <td>0.0</td>\n",
       "      <td>72</td>\n",
       "      <td>72.0</td>\n",
       "      <td>220045</td>\n",
       "      <td>Heart Rate</td>\n",
       "    </tr>\n",
       "    <tr>\n",
       "      <th>3</th>\n",
       "      <td>256064</td>\n",
       "      <td>0.0</td>\n",
       "      <td>120</td>\n",
       "      <td>120.0</td>\n",
       "      <td>220046</td>\n",
       "      <td>Heart rate Alarm - High</td>\n",
       "    </tr>\n",
       "    <tr>\n",
       "      <th>4</th>\n",
       "      <td>256064</td>\n",
       "      <td>0.0</td>\n",
       "      <td>35</td>\n",
       "      <td>35.0</td>\n",
       "      <td>224161</td>\n",
       "      <td>Resp Alarm - High</td>\n",
       "    </tr>\n",
       "  </tbody>\n",
       "</table>\n",
       "</div>"
      ],
      "text/plain": [
       "   icustay_id  mins value  valuenum  itemid                    label\n",
       "0      256064   0.0    69      69.0  220045               Heart Rate\n",
       "1      256064   0.0    16      16.0  220210         Respiratory Rate\n",
       "2      256064   0.0    72      72.0  220045               Heart Rate\n",
       "3      256064   0.0   120     120.0  220046  Heart rate Alarm - High\n",
       "4      256064   0.0    35      35.0  224161        Resp Alarm - High"
      ]
     },
     "execution_count": 4,
     "metadata": {},
     "output_type": "execute_result"
    }
   ],
   "source": [
    "pat.head()"
   ]
  },
  {
   "cell_type": "markdown",
   "metadata": {},
   "source": [
    "### Heart rate"
   ]
  },
  {
   "cell_type": "code",
   "execution_count": 5,
   "metadata": {},
   "outputs": [
    {
     "data": {
      "text/html": [
       "<div>\n",
       "<style scoped>\n",
       "    .dataframe tbody tr th:only-of-type {\n",
       "        vertical-align: middle;\n",
       "    }\n",
       "\n",
       "    .dataframe tbody tr th {\n",
       "        vertical-align: top;\n",
       "    }\n",
       "\n",
       "    .dataframe thead th {\n",
       "        text-align: right;\n",
       "    }\n",
       "</style>\n",
       "<table border=\"1\" class=\"dataframe\">\n",
       "  <thead>\n",
       "    <tr style=\"text-align: right;\">\n",
       "      <th></th>\n",
       "      <th>icustay_id</th>\n",
       "      <th>mins</th>\n",
       "      <th>value</th>\n",
       "      <th>valuenum</th>\n",
       "      <th>itemid</th>\n",
       "      <th>label</th>\n",
       "    </tr>\n",
       "  </thead>\n",
       "  <tbody>\n",
       "    <tr>\n",
       "      <th>0</th>\n",
       "      <td>256064</td>\n",
       "      <td>0.0</td>\n",
       "      <td>69</td>\n",
       "      <td>69.0</td>\n",
       "      <td>220045</td>\n",
       "      <td>Heart Rate</td>\n",
       "    </tr>\n",
       "    <tr>\n",
       "      <th>2</th>\n",
       "      <td>256064</td>\n",
       "      <td>0.0</td>\n",
       "      <td>72</td>\n",
       "      <td>72.0</td>\n",
       "      <td>220045</td>\n",
       "      <td>Heart Rate</td>\n",
       "    </tr>\n",
       "    <tr>\n",
       "      <th>8</th>\n",
       "      <td>256064</td>\n",
       "      <td>0.0</td>\n",
       "      <td>50</td>\n",
       "      <td>50.0</td>\n",
       "      <td>220047</td>\n",
       "      <td>Heart Rate Alarm - Low</td>\n",
       "    </tr>\n",
       "    <tr>\n",
       "      <th>37</th>\n",
       "      <td>256064</td>\n",
       "      <td>0.0</td>\n",
       "      <td>57</td>\n",
       "      <td>57.0</td>\n",
       "      <td>220045</td>\n",
       "      <td>Heart Rate</td>\n",
       "    </tr>\n",
       "    <tr>\n",
       "      <th>59</th>\n",
       "      <td>256064</td>\n",
       "      <td>0.0</td>\n",
       "      <td>60</td>\n",
       "      <td>60.0</td>\n",
       "      <td>220047</td>\n",
       "      <td>Heart Rate Alarm - Low</td>\n",
       "    </tr>\n",
       "    <tr>\n",
       "      <th>162</th>\n",
       "      <td>256064</td>\n",
       "      <td>1.0</td>\n",
       "      <td>60</td>\n",
       "      <td>60.0</td>\n",
       "      <td>220047</td>\n",
       "      <td>Heart Rate Alarm - Low</td>\n",
       "    </tr>\n",
       "    <tr>\n",
       "      <th>165</th>\n",
       "      <td>256064</td>\n",
       "      <td>1.0</td>\n",
       "      <td>68</td>\n",
       "      <td>68.0</td>\n",
       "      <td>220045</td>\n",
       "      <td>Heart Rate</td>\n",
       "    </tr>\n",
       "    <tr>\n",
       "      <th>207</th>\n",
       "      <td>256064</td>\n",
       "      <td>1.0</td>\n",
       "      <td>50</td>\n",
       "      <td>50.0</td>\n",
       "      <td>220047</td>\n",
       "      <td>Heart Rate Alarm - Low</td>\n",
       "    </tr>\n",
       "    <tr>\n",
       "      <th>308</th>\n",
       "      <td>256064</td>\n",
       "      <td>2.0</td>\n",
       "      <td>68</td>\n",
       "      <td>68.0</td>\n",
       "      <td>220045</td>\n",
       "      <td>Heart Rate</td>\n",
       "    </tr>\n",
       "    <tr>\n",
       "      <th>694</th>\n",
       "      <td>256064</td>\n",
       "      <td>3.0</td>\n",
       "      <td>60</td>\n",
       "      <td>60.0</td>\n",
       "      <td>220047</td>\n",
       "      <td>Heart Rate Alarm - Low</td>\n",
       "    </tr>\n",
       "    <tr>\n",
       "      <th>...</th>\n",
       "      <td>...</td>\n",
       "      <td>...</td>\n",
       "      <td>...</td>\n",
       "      <td>...</td>\n",
       "      <td>...</td>\n",
       "      <td>...</td>\n",
       "    </tr>\n",
       "    <tr>\n",
       "      <th>41304</th>\n",
       "      <td>256064</td>\n",
       "      <td>56.0</td>\n",
       "      <td>63</td>\n",
       "      <td>63.0</td>\n",
       "      <td>220045</td>\n",
       "      <td>Heart Rate</td>\n",
       "    </tr>\n",
       "    <tr>\n",
       "      <th>41394</th>\n",
       "      <td>256064</td>\n",
       "      <td>56.0</td>\n",
       "      <td>60</td>\n",
       "      <td>60.0</td>\n",
       "      <td>220047</td>\n",
       "      <td>Heart Rate Alarm - Low</td>\n",
       "    </tr>\n",
       "    <tr>\n",
       "      <th>41864</th>\n",
       "      <td>256064</td>\n",
       "      <td>57.0</td>\n",
       "      <td>66</td>\n",
       "      <td>66.0</td>\n",
       "      <td>220045</td>\n",
       "      <td>Heart Rate</td>\n",
       "    </tr>\n",
       "    <tr>\n",
       "      <th>42044</th>\n",
       "      <td>256064</td>\n",
       "      <td>58.0</td>\n",
       "      <td>69</td>\n",
       "      <td>69.0</td>\n",
       "      <td>220045</td>\n",
       "      <td>Heart Rate</td>\n",
       "    </tr>\n",
       "    <tr>\n",
       "      <th>42401</th>\n",
       "      <td>256064</td>\n",
       "      <td>59.0</td>\n",
       "      <td>69</td>\n",
       "      <td>69.0</td>\n",
       "      <td>220045</td>\n",
       "      <td>Heart Rate</td>\n",
       "    </tr>\n",
       "    <tr>\n",
       "      <th>42433</th>\n",
       "      <td>256064</td>\n",
       "      <td>59.0</td>\n",
       "      <td>82</td>\n",
       "      <td>82.0</td>\n",
       "      <td>220045</td>\n",
       "      <td>Heart Rate</td>\n",
       "    </tr>\n",
       "    <tr>\n",
       "      <th>42479</th>\n",
       "      <td>256064</td>\n",
       "      <td>59.0</td>\n",
       "      <td>82</td>\n",
       "      <td>82.0</td>\n",
       "      <td>220045</td>\n",
       "      <td>Heart Rate</td>\n",
       "    </tr>\n",
       "    <tr>\n",
       "      <th>42504</th>\n",
       "      <td>256064</td>\n",
       "      <td>59.0</td>\n",
       "      <td>86</td>\n",
       "      <td>86.0</td>\n",
       "      <td>220045</td>\n",
       "      <td>Heart Rate</td>\n",
       "    </tr>\n",
       "    <tr>\n",
       "      <th>42576</th>\n",
       "      <td>256064</td>\n",
       "      <td>59.0</td>\n",
       "      <td>61</td>\n",
       "      <td>61.0</td>\n",
       "      <td>220045</td>\n",
       "      <td>Heart Rate</td>\n",
       "    </tr>\n",
       "    <tr>\n",
       "      <th>42586</th>\n",
       "      <td>256064</td>\n",
       "      <td>59.0</td>\n",
       "      <td>82</td>\n",
       "      <td>82.0</td>\n",
       "      <td>220045</td>\n",
       "      <td>Heart Rate</td>\n",
       "    </tr>\n",
       "  </tbody>\n",
       "</table>\n",
       "<p>752 rows × 6 columns</p>\n",
       "</div>"
      ],
      "text/plain": [
       "       icustay_id  mins value  valuenum  itemid                   label\n",
       "0          256064   0.0    69      69.0  220045              Heart Rate\n",
       "2          256064   0.0    72      72.0  220045              Heart Rate\n",
       "8          256064   0.0    50      50.0  220047  Heart Rate Alarm - Low\n",
       "37         256064   0.0    57      57.0  220045              Heart Rate\n",
       "59         256064   0.0    60      60.0  220047  Heart Rate Alarm - Low\n",
       "162        256064   1.0    60      60.0  220047  Heart Rate Alarm - Low\n",
       "165        256064   1.0    68      68.0  220045              Heart Rate\n",
       "207        256064   1.0    50      50.0  220047  Heart Rate Alarm - Low\n",
       "308        256064   2.0    68      68.0  220045              Heart Rate\n",
       "694        256064   3.0    60      60.0  220047  Heart Rate Alarm - Low\n",
       "...           ...   ...   ...       ...     ...                     ...\n",
       "41304      256064  56.0    63      63.0  220045              Heart Rate\n",
       "41394      256064  56.0    60      60.0  220047  Heart Rate Alarm - Low\n",
       "41864      256064  57.0    66      66.0  220045              Heart Rate\n",
       "42044      256064  58.0    69      69.0  220045              Heart Rate\n",
       "42401      256064  59.0    69      69.0  220045              Heart Rate\n",
       "42433      256064  59.0    82      82.0  220045              Heart Rate\n",
       "42479      256064  59.0    82      82.0  220045              Heart Rate\n",
       "42504      256064  59.0    86      86.0  220045              Heart Rate\n",
       "42576      256064  59.0    61      61.0  220045              Heart Rate\n",
       "42586      256064  59.0    82      82.0  220045              Heart Rate\n",
       "\n",
       "[752 rows x 6 columns]"
      ]
     },
     "execution_count": 5,
     "metadata": {},
     "output_type": "execute_result"
    }
   ],
   "source": [
    "pat[pat.label.str.find('Heart Rate')>=0]\n",
    "# pat[pat.label.str.find('Temp')>=0]"
   ]
  },
  {
   "cell_type": "markdown",
   "metadata": {},
   "source": [
    "환자의 심박수 변화\n",
    "시간(x), 심박수 변수(y)를 기반으로 타임시리즈 차트를 구성한다."
   ]
  },
  {
   "cell_type": "code",
   "execution_count": 6,
   "metadata": {},
   "outputs": [
    {
     "data": {
      "text/plain": [
       "Int64Index([    0,     2,    37,   165,   308,   758,   838,   906,   979,\n",
       "              983,\n",
       "            ...\n",
       "            41202, 41304, 41864, 42044, 42401, 42433, 42479, 42504, 42576,\n",
       "            42586],\n",
       "           dtype='int64', length=709)"
      ]
     },
     "execution_count": 6,
     "metadata": {},
     "output_type": "execute_result"
    }
   ],
   "source": [
    "pat.index[pat.label=='Heart Rate']"
   ]
  },
  {
   "cell_type": "code",
   "execution_count": 7,
   "metadata": {},
   "outputs": [],
   "source": [
    "x = pat.mins[pat.label=='Heart Rate']\n",
    "y = pat.valuenum[pat.label=='Heart Rate']"
   ]
  },
  {
   "cell_type": "code",
   "execution_count": 8,
   "metadata": {},
   "outputs": [
    {
     "data": {
      "text/plain": [
       "<Figure size 1440x360 with 0 Axes>"
      ]
     },
     "execution_count": 8,
     "metadata": {},
     "output_type": "execute_result"
    },
    {
     "data": {
      "text/plain": [
       "[<matplotlib.lines.Line2D at 0x11ae2ecf8>]"
      ]
     },
     "execution_count": 8,
     "metadata": {},
     "output_type": "execute_result"
    },
    {
     "data": {
      "text/plain": [
       "Text(0.5,0,'minutes after admission')"
      ]
     },
     "execution_count": 8,
     "metadata": {},
     "output_type": "execute_result"
    },
    {
     "data": {
      "text/plain": [
       "Text(0,0.5,'Heart Rate')"
      ]
     },
     "execution_count": 8,
     "metadata": {},
     "output_type": "execute_result"
    },
    {
     "data": {
      "text/plain": [
       "Text(0.5,1,'Heart rate change over time from admission to icu')"
      ]
     },
     "execution_count": 8,
     "metadata": {},
     "output_type": "execute_result"
    },
    {
     "data": {
      "image/png": "[encoded data removed]",
      "text/plain": [
       "<Figure size 1440x360 with 1 Axes>"
      ]
     },
     "metadata": {
      "needs_background": "light"
     },
     "output_type": "display_data"
    }
   ],
   "source": [
    "plt.figure(figsize=(20, 5))\n",
    "plt.plot(x, y, 'k+')\n",
    "\n",
    "plt.xlabel('minutes after admission')\n",
    "plt.ylabel('Heart Rate')\n",
    "plt.title('Heart rate change over time from admission to icu')"
   ]
  },
  {
   "cell_type": "markdown",
   "metadata": {
    "slideshow": {
     "slide_type": "-"
    }
   },
   "source": [
    "세로 줄로 표시되는 부분은 1분 내 여러번 측정해서 값이 range로 존재하는 경우입니다."
   ]
  },
  {
   "cell_type": "code",
   "execution_count": 9,
   "metadata": {},
   "outputs": [
    {
     "data": {
      "text/html": [
       "<div>\n",
       "<style scoped>\n",
       "    .dataframe tbody tr th:only-of-type {\n",
       "        vertical-align: middle;\n",
       "    }\n",
       "\n",
       "    .dataframe tbody tr th {\n",
       "        vertical-align: top;\n",
       "    }\n",
       "\n",
       "    .dataframe thead th {\n",
       "        text-align: right;\n",
       "    }\n",
       "</style>\n",
       "<table border=\"1\" class=\"dataframe\">\n",
       "  <thead>\n",
       "    <tr style=\"text-align: right;\">\n",
       "      <th></th>\n",
       "      <th>icustay_id</th>\n",
       "      <th>mins</th>\n",
       "      <th>value</th>\n",
       "      <th>valuenum</th>\n",
       "      <th>itemid</th>\n",
       "      <th>label</th>\n",
       "    </tr>\n",
       "  </thead>\n",
       "  <tbody>\n",
       "    <tr>\n",
       "      <th>7490</th>\n",
       "      <td>256064</td>\n",
       "      <td>19.0</td>\n",
       "      <td>63</td>\n",
       "      <td>63.0</td>\n",
       "      <td>220045</td>\n",
       "      <td>Heart Rate</td>\n",
       "    </tr>\n",
       "    <tr>\n",
       "      <th>7519</th>\n",
       "      <td>256064</td>\n",
       "      <td>19.0</td>\n",
       "      <td>74</td>\n",
       "      <td>74.0</td>\n",
       "      <td>220045</td>\n",
       "      <td>Heart Rate</td>\n",
       "    </tr>\n",
       "    <tr>\n",
       "      <th>7602</th>\n",
       "      <td>256064</td>\n",
       "      <td>19.0</td>\n",
       "      <td>67</td>\n",
       "      <td>67.0</td>\n",
       "      <td>220045</td>\n",
       "      <td>Heart Rate</td>\n",
       "    </tr>\n",
       "    <tr>\n",
       "      <th>7740</th>\n",
       "      <td>256064</td>\n",
       "      <td>19.0</td>\n",
       "      <td>84</td>\n",
       "      <td>84.0</td>\n",
       "      <td>220045</td>\n",
       "      <td>Heart Rate</td>\n",
       "    </tr>\n",
       "  </tbody>\n",
       "</table>\n",
       "</div>"
      ],
      "text/plain": [
       "      icustay_id  mins value  valuenum  itemid       label\n",
       "7490      256064  19.0    63      63.0  220045  Heart Rate\n",
       "7519      256064  19.0    74      74.0  220045  Heart Rate\n",
       "7602      256064  19.0    67      67.0  220045  Heart Rate\n",
       "7740      256064  19.0    84      84.0  220045  Heart Rate"
      ]
     },
     "execution_count": 9,
     "metadata": {},
     "output_type": "execute_result"
    }
   ],
   "source": [
    "pat[(pat.mins==19) & (pat.label=='Heart Rate')]"
   ]
  },
  {
   "cell_type": "markdown",
   "metadata": {
    "slideshow": {
     "slide_type": "-"
    }
   },
   "source": [
    "### Respiratory Rate"
   ]
  },
  {
   "cell_type": "code",
   "execution_count": 10,
   "metadata": {},
   "outputs": [
    {
     "data": {
      "text/html": [
       "<div>\n",
       "<style scoped>\n",
       "    .dataframe tbody tr th:only-of-type {\n",
       "        vertical-align: middle;\n",
       "    }\n",
       "\n",
       "    .dataframe tbody tr th {\n",
       "        vertical-align: top;\n",
       "    }\n",
       "\n",
       "    .dataframe thead th {\n",
       "        text-align: right;\n",
       "    }\n",
       "</style>\n",
       "<table border=\"1\" class=\"dataframe\">\n",
       "  <thead>\n",
       "    <tr style=\"text-align: right;\">\n",
       "      <th></th>\n",
       "      <th>icustay_id</th>\n",
       "      <th>mins</th>\n",
       "      <th>value</th>\n",
       "      <th>valuenum</th>\n",
       "      <th>itemid</th>\n",
       "      <th>label</th>\n",
       "    </tr>\n",
       "  </thead>\n",
       "  <tbody>\n",
       "    <tr>\n",
       "      <th>1</th>\n",
       "      <td>256064</td>\n",
       "      <td>0.0</td>\n",
       "      <td>16</td>\n",
       "      <td>16.0</td>\n",
       "      <td>220210</td>\n",
       "      <td>Respiratory Rate</td>\n",
       "    </tr>\n",
       "    <tr>\n",
       "      <th>33</th>\n",
       "      <td>256064</td>\n",
       "      <td>0.0</td>\n",
       "      <td>4</td>\n",
       "      <td>4.0</td>\n",
       "      <td>220210</td>\n",
       "      <td>Respiratory Rate</td>\n",
       "    </tr>\n",
       "    <tr>\n",
       "      <th>57</th>\n",
       "      <td>256064</td>\n",
       "      <td>0.0</td>\n",
       "      <td>30</td>\n",
       "      <td>30.0</td>\n",
       "      <td>220210</td>\n",
       "      <td>Respiratory Rate</td>\n",
       "    </tr>\n",
       "    <tr>\n",
       "      <th>157</th>\n",
       "      <td>256064</td>\n",
       "      <td>1.0</td>\n",
       "      <td>14</td>\n",
       "      <td>14.0</td>\n",
       "      <td>220210</td>\n",
       "      <td>Respiratory Rate</td>\n",
       "    </tr>\n",
       "    <tr>\n",
       "      <th>160</th>\n",
       "      <td>256064</td>\n",
       "      <td>1.0</td>\n",
       "      <td>20</td>\n",
       "      <td>20.0</td>\n",
       "      <td>220210</td>\n",
       "      <td>Respiratory Rate</td>\n",
       "    </tr>\n",
       "    <tr>\n",
       "      <th>344</th>\n",
       "      <td>256064</td>\n",
       "      <td>2.0</td>\n",
       "      <td>15</td>\n",
       "      <td>15.0</td>\n",
       "      <td>220210</td>\n",
       "      <td>Respiratory Rate</td>\n",
       "    </tr>\n",
       "    <tr>\n",
       "      <th>742</th>\n",
       "      <td>256064</td>\n",
       "      <td>3.0</td>\n",
       "      <td>14</td>\n",
       "      <td>14.0</td>\n",
       "      <td>220210</td>\n",
       "      <td>Respiratory Rate</td>\n",
       "    </tr>\n",
       "    <tr>\n",
       "      <th>839</th>\n",
       "      <td>256064</td>\n",
       "      <td>4.0</td>\n",
       "      <td>13</td>\n",
       "      <td>13.0</td>\n",
       "      <td>220210</td>\n",
       "      <td>Respiratory Rate</td>\n",
       "    </tr>\n",
       "    <tr>\n",
       "      <th>905</th>\n",
       "      <td>256064</td>\n",
       "      <td>4.0</td>\n",
       "      <td>25</td>\n",
       "      <td>25.0</td>\n",
       "      <td>220210</td>\n",
       "      <td>Respiratory Rate</td>\n",
       "    </tr>\n",
       "    <tr>\n",
       "      <th>980</th>\n",
       "      <td>256064</td>\n",
       "      <td>4.0</td>\n",
       "      <td>14</td>\n",
       "      <td>14.0</td>\n",
       "      <td>220210</td>\n",
       "      <td>Respiratory Rate</td>\n",
       "    </tr>\n",
       "    <tr>\n",
       "      <th>...</th>\n",
       "      <td>...</td>\n",
       "      <td>...</td>\n",
       "      <td>...</td>\n",
       "      <td>...</td>\n",
       "      <td>...</td>\n",
       "      <td>...</td>\n",
       "    </tr>\n",
       "    <tr>\n",
       "      <th>42119</th>\n",
       "      <td>256064</td>\n",
       "      <td>58.0</td>\n",
       "      <td>6</td>\n",
       "      <td>6.0</td>\n",
       "      <td>220210</td>\n",
       "      <td>Respiratory Rate</td>\n",
       "    </tr>\n",
       "    <tr>\n",
       "      <th>42190</th>\n",
       "      <td>256064</td>\n",
       "      <td>58.0</td>\n",
       "      <td>8</td>\n",
       "      <td>8.0</td>\n",
       "      <td>220210</td>\n",
       "      <td>Respiratory Rate</td>\n",
       "    </tr>\n",
       "    <tr>\n",
       "      <th>42220</th>\n",
       "      <td>256064</td>\n",
       "      <td>58.0</td>\n",
       "      <td>24</td>\n",
       "      <td>24.0</td>\n",
       "      <td>220210</td>\n",
       "      <td>Respiratory Rate</td>\n",
       "    </tr>\n",
       "    <tr>\n",
       "      <th>42229</th>\n",
       "      <td>256064</td>\n",
       "      <td>58.0</td>\n",
       "      <td>18</td>\n",
       "      <td>18.0</td>\n",
       "      <td>220210</td>\n",
       "      <td>Respiratory Rate</td>\n",
       "    </tr>\n",
       "    <tr>\n",
       "      <th>42400</th>\n",
       "      <td>256064</td>\n",
       "      <td>59.0</td>\n",
       "      <td>14</td>\n",
       "      <td>14.0</td>\n",
       "      <td>220210</td>\n",
       "      <td>Respiratory Rate</td>\n",
       "    </tr>\n",
       "    <tr>\n",
       "      <th>42413</th>\n",
       "      <td>256064</td>\n",
       "      <td>59.0</td>\n",
       "      <td>27</td>\n",
       "      <td>27.0</td>\n",
       "      <td>220210</td>\n",
       "      <td>Respiratory Rate</td>\n",
       "    </tr>\n",
       "    <tr>\n",
       "      <th>42512</th>\n",
       "      <td>256064</td>\n",
       "      <td>59.0</td>\n",
       "      <td>28</td>\n",
       "      <td>28.0</td>\n",
       "      <td>220210</td>\n",
       "      <td>Respiratory Rate</td>\n",
       "    </tr>\n",
       "    <tr>\n",
       "      <th>42517</th>\n",
       "      <td>256064</td>\n",
       "      <td>59.0</td>\n",
       "      <td>8</td>\n",
       "      <td>8.0</td>\n",
       "      <td>220210</td>\n",
       "      <td>Respiratory Rate</td>\n",
       "    </tr>\n",
       "    <tr>\n",
       "      <th>42533</th>\n",
       "      <td>256064</td>\n",
       "      <td>59.0</td>\n",
       "      <td>12</td>\n",
       "      <td>12.0</td>\n",
       "      <td>220210</td>\n",
       "      <td>Respiratory Rate</td>\n",
       "    </tr>\n",
       "    <tr>\n",
       "      <th>42593</th>\n",
       "      <td>256064</td>\n",
       "      <td>59.0</td>\n",
       "      <td>20</td>\n",
       "      <td>20.0</td>\n",
       "      <td>220210</td>\n",
       "      <td>Respiratory Rate</td>\n",
       "    </tr>\n",
       "  </tbody>\n",
       "</table>\n",
       "<p>713 rows × 6 columns</p>\n",
       "</div>"
      ],
      "text/plain": [
       "       icustay_id  mins value  valuenum  itemid             label\n",
       "1          256064   0.0    16      16.0  220210  Respiratory Rate\n",
       "33         256064   0.0     4       4.0  220210  Respiratory Rate\n",
       "57         256064   0.0    30      30.0  220210  Respiratory Rate\n",
       "157        256064   1.0    14      14.0  220210  Respiratory Rate\n",
       "160        256064   1.0    20      20.0  220210  Respiratory Rate\n",
       "344        256064   2.0    15      15.0  220210  Respiratory Rate\n",
       "742        256064   3.0    14      14.0  220210  Respiratory Rate\n",
       "839        256064   4.0    13      13.0  220210  Respiratory Rate\n",
       "905        256064   4.0    25      25.0  220210  Respiratory Rate\n",
       "980        256064   4.0    14      14.0  220210  Respiratory Rate\n",
       "...           ...   ...   ...       ...     ...               ...\n",
       "42119      256064  58.0     6       6.0  220210  Respiratory Rate\n",
       "42190      256064  58.0     8       8.0  220210  Respiratory Rate\n",
       "42220      256064  58.0    24      24.0  220210  Respiratory Rate\n",
       "42229      256064  58.0    18      18.0  220210  Respiratory Rate\n",
       "42400      256064  59.0    14      14.0  220210  Respiratory Rate\n",
       "42413      256064  59.0    27      27.0  220210  Respiratory Rate\n",
       "42512      256064  59.0    28      28.0  220210  Respiratory Rate\n",
       "42517      256064  59.0     8       8.0  220210  Respiratory Rate\n",
       "42533      256064  59.0    12      12.0  220210  Respiratory Rate\n",
       "42593      256064  59.0    20      20.0  220210  Respiratory Rate\n",
       "\n",
       "[713 rows x 6 columns]"
      ]
     },
     "execution_count": 10,
     "metadata": {},
     "output_type": "execute_result"
    }
   ],
   "source": [
    "pat[pat.label=='Respiratory Rate']"
   ]
  },
  {
   "cell_type": "markdown",
   "metadata": {},
   "source": [
    "환자의 상태가 위험 경계를 넘어간 경우가 있나요?  \n",
    "ICU에서 경계 알람 값을 지정할 때 대부분의 경우 너무 높거나 너무 낮은 값에 알람을 세팅하게 되는데, False 알람을 줄이기 위해서 경계 값을 조절하는 경우도 있습니다."
   ]
  },
  {
   "cell_type": "code",
   "execution_count": 11,
   "metadata": {},
   "outputs": [
    {
     "data": {
      "text/html": [
       "<div>\n",
       "<style scoped>\n",
       "    .dataframe tbody tr th:only-of-type {\n",
       "        vertical-align: middle;\n",
       "    }\n",
       "\n",
       "    .dataframe tbody tr th {\n",
       "        vertical-align: top;\n",
       "    }\n",
       "\n",
       "    .dataframe thead th {\n",
       "        text-align: right;\n",
       "    }\n",
       "</style>\n",
       "<table border=\"1\" class=\"dataframe\">\n",
       "  <thead>\n",
       "    <tr style=\"text-align: right;\">\n",
       "      <th></th>\n",
       "      <th>icustay_id</th>\n",
       "      <th>mins</th>\n",
       "      <th>value</th>\n",
       "      <th>valuenum</th>\n",
       "      <th>itemid</th>\n",
       "      <th>label</th>\n",
       "    </tr>\n",
       "  </thead>\n",
       "  <tbody>\n",
       "    <tr>\n",
       "      <th>4</th>\n",
       "      <td>256064</td>\n",
       "      <td>0.0</td>\n",
       "      <td>35</td>\n",
       "      <td>35.0</td>\n",
       "      <td>224161</td>\n",
       "      <td>Resp Alarm - High</td>\n",
       "    </tr>\n",
       "    <tr>\n",
       "      <th>5</th>\n",
       "      <td>256064</td>\n",
       "      <td>0.0</td>\n",
       "      <td>8</td>\n",
       "      <td>8.0</td>\n",
       "      <td>224162</td>\n",
       "      <td>Resp Alarm - Low</td>\n",
       "    </tr>\n",
       "    <tr>\n",
       "      <th>6</th>\n",
       "      <td>256064</td>\n",
       "      <td>0.0</td>\n",
       "      <td>35</td>\n",
       "      <td>35.0</td>\n",
       "      <td>224161</td>\n",
       "      <td>Resp Alarm - High</td>\n",
       "    </tr>\n",
       "    <tr>\n",
       "      <th>7</th>\n",
       "      <td>256064</td>\n",
       "      <td>0.0</td>\n",
       "      <td>8</td>\n",
       "      <td>8.0</td>\n",
       "      <td>224162</td>\n",
       "      <td>Resp Alarm - Low</td>\n",
       "    </tr>\n",
       "    <tr>\n",
       "      <th>158</th>\n",
       "      <td>256064</td>\n",
       "      <td>1.0</td>\n",
       "      <td>30</td>\n",
       "      <td>30.0</td>\n",
       "      <td>224161</td>\n",
       "      <td>Resp Alarm - High</td>\n",
       "    </tr>\n",
       "    <tr>\n",
       "      <th>159</th>\n",
       "      <td>256064</td>\n",
       "      <td>1.0</td>\n",
       "      <td>8</td>\n",
       "      <td>8.0</td>\n",
       "      <td>224162</td>\n",
       "      <td>Resp Alarm - Low</td>\n",
       "    </tr>\n",
       "    <tr>\n",
       "      <th>168</th>\n",
       "      <td>256064</td>\n",
       "      <td>1.0</td>\n",
       "      <td>8</td>\n",
       "      <td>8.0</td>\n",
       "      <td>224162</td>\n",
       "      <td>Resp Alarm - Low</td>\n",
       "    </tr>\n",
       "    <tr>\n",
       "      <th>169</th>\n",
       "      <td>256064</td>\n",
       "      <td>1.0</td>\n",
       "      <td>35</td>\n",
       "      <td>35.0</td>\n",
       "      <td>224161</td>\n",
       "      <td>Resp Alarm - High</td>\n",
       "    </tr>\n",
       "    <tr>\n",
       "      <th>827</th>\n",
       "      <td>256064</td>\n",
       "      <td>3.0</td>\n",
       "      <td>30</td>\n",
       "      <td>30.0</td>\n",
       "      <td>224161</td>\n",
       "      <td>Resp Alarm - High</td>\n",
       "    </tr>\n",
       "    <tr>\n",
       "      <th>828</th>\n",
       "      <td>256064</td>\n",
       "      <td>3.0</td>\n",
       "      <td>8</td>\n",
       "      <td>8.0</td>\n",
       "      <td>224162</td>\n",
       "      <td>Resp Alarm - Low</td>\n",
       "    </tr>\n",
       "    <tr>\n",
       "      <th>...</th>\n",
       "      <td>...</td>\n",
       "      <td>...</td>\n",
       "      <td>...</td>\n",
       "      <td>...</td>\n",
       "      <td>...</td>\n",
       "      <td>...</td>\n",
       "    </tr>\n",
       "    <tr>\n",
       "      <th>31338</th>\n",
       "      <td>256064</td>\n",
       "      <td>54.0</td>\n",
       "      <td>8</td>\n",
       "      <td>8.0</td>\n",
       "      <td>224162</td>\n",
       "      <td>Resp Alarm - Low</td>\n",
       "    </tr>\n",
       "    <tr>\n",
       "      <th>31339</th>\n",
       "      <td>256064</td>\n",
       "      <td>54.0</td>\n",
       "      <td>30</td>\n",
       "      <td>30.0</td>\n",
       "      <td>224161</td>\n",
       "      <td>Resp Alarm - High</td>\n",
       "    </tr>\n",
       "    <tr>\n",
       "      <th>31359</th>\n",
       "      <td>256064</td>\n",
       "      <td>54.0</td>\n",
       "      <td>8</td>\n",
       "      <td>8.0</td>\n",
       "      <td>224162</td>\n",
       "      <td>Resp Alarm - Low</td>\n",
       "    </tr>\n",
       "    <tr>\n",
       "      <th>31360</th>\n",
       "      <td>256064</td>\n",
       "      <td>54.0</td>\n",
       "      <td>35</td>\n",
       "      <td>35.0</td>\n",
       "      <td>224161</td>\n",
       "      <td>Resp Alarm - High</td>\n",
       "    </tr>\n",
       "    <tr>\n",
       "      <th>39238</th>\n",
       "      <td>256064</td>\n",
       "      <td>54.0</td>\n",
       "      <td>8</td>\n",
       "      <td>8.0</td>\n",
       "      <td>224162</td>\n",
       "      <td>Resp Alarm - Low</td>\n",
       "    </tr>\n",
       "    <tr>\n",
       "      <th>40593</th>\n",
       "      <td>256064</td>\n",
       "      <td>54.0</td>\n",
       "      <td>35</td>\n",
       "      <td>35.0</td>\n",
       "      <td>224161</td>\n",
       "      <td>Resp Alarm - High</td>\n",
       "    </tr>\n",
       "    <tr>\n",
       "      <th>40623</th>\n",
       "      <td>256064</td>\n",
       "      <td>54.0</td>\n",
       "      <td>35</td>\n",
       "      <td>35.0</td>\n",
       "      <td>224161</td>\n",
       "      <td>Resp Alarm - High</td>\n",
       "    </tr>\n",
       "    <tr>\n",
       "      <th>40624</th>\n",
       "      <td>256064</td>\n",
       "      <td>54.0</td>\n",
       "      <td>8</td>\n",
       "      <td>8.0</td>\n",
       "      <td>224162</td>\n",
       "      <td>Resp Alarm - Low</td>\n",
       "    </tr>\n",
       "    <tr>\n",
       "      <th>41500</th>\n",
       "      <td>256064</td>\n",
       "      <td>56.0</td>\n",
       "      <td>8</td>\n",
       "      <td>8.0</td>\n",
       "      <td>224162</td>\n",
       "      <td>Resp Alarm - Low</td>\n",
       "    </tr>\n",
       "    <tr>\n",
       "      <th>41501</th>\n",
       "      <td>256064</td>\n",
       "      <td>56.0</td>\n",
       "      <td>30</td>\n",
       "      <td>30.0</td>\n",
       "      <td>224161</td>\n",
       "      <td>Resp Alarm - High</td>\n",
       "    </tr>\n",
       "  </tbody>\n",
       "</table>\n",
       "<p>82 rows × 6 columns</p>\n",
       "</div>"
      ],
      "text/plain": [
       "       icustay_id  mins value  valuenum  itemid              label\n",
       "4          256064   0.0    35      35.0  224161  Resp Alarm - High\n",
       "5          256064   0.0     8       8.0  224162   Resp Alarm - Low\n",
       "6          256064   0.0    35      35.0  224161  Resp Alarm - High\n",
       "7          256064   0.0     8       8.0  224162   Resp Alarm - Low\n",
       "158        256064   1.0    30      30.0  224161  Resp Alarm - High\n",
       "159        256064   1.0     8       8.0  224162   Resp Alarm - Low\n",
       "168        256064   1.0     8       8.0  224162   Resp Alarm - Low\n",
       "169        256064   1.0    35      35.0  224161  Resp Alarm - High\n",
       "827        256064   3.0    30      30.0  224161  Resp Alarm - High\n",
       "828        256064   3.0     8       8.0  224162   Resp Alarm - Low\n",
       "...           ...   ...   ...       ...     ...                ...\n",
       "31338      256064  54.0     8       8.0  224162   Resp Alarm - Low\n",
       "31339      256064  54.0    30      30.0  224161  Resp Alarm - High\n",
       "31359      256064  54.0     8       8.0  224162   Resp Alarm - Low\n",
       "31360      256064  54.0    35      35.0  224161  Resp Alarm - High\n",
       "39238      256064  54.0     8       8.0  224162   Resp Alarm - Low\n",
       "40593      256064  54.0    35      35.0  224161  Resp Alarm - High\n",
       "40623      256064  54.0    35      35.0  224161  Resp Alarm - High\n",
       "40624      256064  54.0     8       8.0  224162   Resp Alarm - Low\n",
       "41500      256064  56.0     8       8.0  224162   Resp Alarm - Low\n",
       "41501      256064  56.0    30      30.0  224161  Resp Alarm - High\n",
       "\n",
       "[82 rows x 6 columns]"
      ]
     },
     "execution_count": 11,
     "metadata": {},
     "output_type": "execute_result"
    }
   ],
   "source": [
    "pat[pat.label.str.find('Resp Alarm')>=0]"
   ]
  },
  {
   "cell_type": "code",
   "execution_count": 12,
   "metadata": {},
   "outputs": [
    {
     "data": {
      "text/plain": [
       "<Figure size 1440x720 with 0 Axes>"
      ]
     },
     "execution_count": 12,
     "metadata": {},
     "output_type": "execute_result"
    },
    {
     "data": {
      "text/plain": [
       "[<matplotlib.lines.Line2D at 0x11a890320>]"
      ]
     },
     "execution_count": 12,
     "metadata": {},
     "output_type": "execute_result"
    },
    {
     "data": {
      "text/plain": [
       "[<matplotlib.lines.Line2D at 0x11a90fd68>]"
      ]
     },
     "execution_count": 12,
     "metadata": {},
     "output_type": "execute_result"
    },
    {
     "data": {
      "text/plain": [
       "[<matplotlib.lines.Line2D at 0x11b004208>]"
      ]
     },
     "execution_count": 12,
     "metadata": {},
     "output_type": "execute_result"
    },
    {
     "data": {
      "text/plain": [
       "Text(0.5,0,'minutes after admission')"
      ]
     },
     "execution_count": 12,
     "metadata": {},
     "output_type": "execute_result"
    },
    {
     "data": {
      "text/plain": [
       "Text(0,0.5,'Respiratory Rate')"
      ]
     },
     "execution_count": 12,
     "metadata": {},
     "output_type": "execute_result"
    },
    {
     "data": {
      "text/plain": [
       "Text(0.5,1,'Respiratory Rate change over time from admission to icu')"
      ]
     },
     "execution_count": 12,
     "metadata": {},
     "output_type": "execute_result"
    },
    {
     "data": {
      "image/png": "[encoded data removed]",
      "text/plain": [
       "<Figure size 1440x720 with 1 Axes>"
      ]
     },
     "metadata": {
      "needs_background": "light"
     },
     "output_type": "display_data"
    }
   ],
   "source": [
    "plt.figure(figsize=(20, 10))\n",
    "\n",
    "plt.plot(pat.mins[pat.label=='Respiratory Rate'],\n",
    "        pat.valuenum[pat.label=='Respiratory Rate'],\n",
    "        'k+')\n",
    "\n",
    "plt.plot(pat.mins[pat.label=='Resp Alarm - High'],\n",
    "        pat.valuenum[pat.label=='Resp Alarm - High'],\n",
    "        'm--')\n",
    "\n",
    "plt.plot(pat.mins[pat.label=='Resp Alarm - Low'],\n",
    "        pat.valuenum[pat.label=='Resp Alarm - Low'],\n",
    "        'b--')\n",
    "\n",
    "plt.xlabel('minutes after admission')\n",
    "plt.ylabel('Respiratory Rate')\n",
    "plt.title('Respiratory Rate change over time from admission to icu')"
   ]
  },
  {
   "cell_type": "markdown",
   "metadata": {},
   "source": [
    "## 의학적 의견\n",
    "- 호흡수를 기준으로 알람이 울렸을 만한 시점?\n",
    "- outlier에 대한 적절한 설명"
   ]
  },
  {
   "cell_type": "markdown",
   "metadata": {},
   "source": [
    "## 체온"
   ]
  },
  {
   "cell_type": "code",
   "execution_count": 13,
   "metadata": {},
   "outputs": [
    {
     "data": {
      "text/plain": [
       "array(['Temperature Site', 'Temperature Fahrenheit', 'Skin Temperature',\n",
       "       'Temperature Celsius'], dtype=object)"
      ]
     },
     "execution_count": 13,
     "metadata": {},
     "output_type": "execute_result"
    }
   ],
   "source": [
    "# 체온 관련 라벨들\n",
    "pat[pat.label.str.find('Temperature')>=0].label.unique()"
   ]
  },
  {
   "cell_type": "code",
   "execution_count": 14,
   "metadata": {},
   "outputs": [
    {
     "data": {
      "text/plain": [
       "(74, 6)"
      ]
     },
     "execution_count": 14,
     "metadata": {},
     "output_type": "execute_result"
    }
   ],
   "source": [
    "pat[pat.label.str.find('Temperature Celsius')>=0].shape"
   ]
  },
  {
   "cell_type": "code",
   "execution_count": 15,
   "metadata": {},
   "outputs": [
    {
     "data": {
      "text/plain": [
       "(110, 6)"
      ]
     },
     "execution_count": 15,
     "metadata": {},
     "output_type": "execute_result"
    }
   ],
   "source": [
    "pat[pat.label.str.find('Temperature Fahrenheit')>=0].shape"
   ]
  },
  {
   "cell_type": "code",
   "execution_count": 16,
   "metadata": {},
   "outputs": [
    {
     "data": {
      "text/html": [
       "<div>\n",
       "<style scoped>\n",
       "    .dataframe tbody tr th:only-of-type {\n",
       "        vertical-align: middle;\n",
       "    }\n",
       "\n",
       "    .dataframe tbody tr th {\n",
       "        vertical-align: top;\n",
       "    }\n",
       "\n",
       "    .dataframe thead th {\n",
       "        text-align: right;\n",
       "    }\n",
       "</style>\n",
       "<table border=\"1\" class=\"dataframe\">\n",
       "  <thead>\n",
       "    <tr style=\"text-align: right;\">\n",
       "      <th></th>\n",
       "      <th>icustay_id</th>\n",
       "      <th>mins</th>\n",
       "      <th>value</th>\n",
       "      <th>valuenum</th>\n",
       "      <th>itemid</th>\n",
       "      <th>label</th>\n",
       "    </tr>\n",
       "  </thead>\n",
       "  <tbody>\n",
       "    <tr>\n",
       "      <th>0</th>\n",
       "      <td>256064</td>\n",
       "      <td>0.0</td>\n",
       "      <td>97</td>\n",
       "      <td>97.0</td>\n",
       "      <td>223761</td>\n",
       "      <td>Temperature Fahrenheit</td>\n",
       "    </tr>\n",
       "    <tr>\n",
       "      <th>1</th>\n",
       "      <td>256064</td>\n",
       "      <td>9.0</td>\n",
       "      <td>98.4</td>\n",
       "      <td>98.4</td>\n",
       "      <td>223761</td>\n",
       "      <td>Temperature Fahrenheit</td>\n",
       "    </tr>\n",
       "    <tr>\n",
       "      <th>2</th>\n",
       "      <td>256064</td>\n",
       "      <td>9.0</td>\n",
       "      <td>98.8</td>\n",
       "      <td>98.8</td>\n",
       "      <td>223761</td>\n",
       "      <td>Temperature Fahrenheit</td>\n",
       "    </tr>\n",
       "    <tr>\n",
       "      <th>3</th>\n",
       "      <td>256064</td>\n",
       "      <td>24.0</td>\n",
       "      <td>98.4</td>\n",
       "      <td>98.4</td>\n",
       "      <td>223761</td>\n",
       "      <td>Temperature Fahrenheit</td>\n",
       "    </tr>\n",
       "    <tr>\n",
       "      <th>4</th>\n",
       "      <td>256064</td>\n",
       "      <td>24.0</td>\n",
       "      <td>97.3</td>\n",
       "      <td>97.3</td>\n",
       "      <td>223761</td>\n",
       "      <td>Temperature Fahrenheit</td>\n",
       "    </tr>\n",
       "    <tr>\n",
       "      <th>5</th>\n",
       "      <td>256064</td>\n",
       "      <td>24.0</td>\n",
       "      <td>96.6</td>\n",
       "      <td>96.6</td>\n",
       "      <td>223761</td>\n",
       "      <td>Temperature Fahrenheit</td>\n",
       "    </tr>\n",
       "    <tr>\n",
       "      <th>6</th>\n",
       "      <td>256064</td>\n",
       "      <td>33.0</td>\n",
       "      <td>95.4</td>\n",
       "      <td>95.4</td>\n",
       "      <td>223761</td>\n",
       "      <td>Temperature Fahrenheit</td>\n",
       "    </tr>\n",
       "    <tr>\n",
       "      <th>7</th>\n",
       "      <td>256064</td>\n",
       "      <td>34.0</td>\n",
       "      <td>98.9</td>\n",
       "      <td>98.9</td>\n",
       "      <td>223761</td>\n",
       "      <td>Temperature Fahrenheit</td>\n",
       "    </tr>\n",
       "    <tr>\n",
       "      <th>8</th>\n",
       "      <td>256064</td>\n",
       "      <td>39.0</td>\n",
       "      <td>96.3</td>\n",
       "      <td>96.3</td>\n",
       "      <td>223761</td>\n",
       "      <td>Temperature Fahrenheit</td>\n",
       "    </tr>\n",
       "    <tr>\n",
       "      <th>9</th>\n",
       "      <td>256064</td>\n",
       "      <td>49.0</td>\n",
       "      <td>98.7</td>\n",
       "      <td>98.7</td>\n",
       "      <td>223761</td>\n",
       "      <td>Temperature Fahrenheit</td>\n",
       "    </tr>\n",
       "    <tr>\n",
       "      <th>...</th>\n",
       "      <td>...</td>\n",
       "      <td>...</td>\n",
       "      <td>...</td>\n",
       "      <td>...</td>\n",
       "      <td>...</td>\n",
       "      <td>...</td>\n",
       "    </tr>\n",
       "    <tr>\n",
       "      <th>100</th>\n",
       "      <td>256064</td>\n",
       "      <td>54.0</td>\n",
       "      <td>98</td>\n",
       "      <td>98.0</td>\n",
       "      <td>223761</td>\n",
       "      <td>Temperature Fahrenheit</td>\n",
       "    </tr>\n",
       "    <tr>\n",
       "      <th>101</th>\n",
       "      <td>256064</td>\n",
       "      <td>54.0</td>\n",
       "      <td>97.6</td>\n",
       "      <td>97.6</td>\n",
       "      <td>223761</td>\n",
       "      <td>Temperature Fahrenheit</td>\n",
       "    </tr>\n",
       "    <tr>\n",
       "      <th>102</th>\n",
       "      <td>256064</td>\n",
       "      <td>54.0</td>\n",
       "      <td>98.6</td>\n",
       "      <td>98.6</td>\n",
       "      <td>223761</td>\n",
       "      <td>Temperature Fahrenheit</td>\n",
       "    </tr>\n",
       "    <tr>\n",
       "      <th>103</th>\n",
       "      <td>256064</td>\n",
       "      <td>54.0</td>\n",
       "      <td>98.8</td>\n",
       "      <td>98.8</td>\n",
       "      <td>223761</td>\n",
       "      <td>Temperature Fahrenheit</td>\n",
       "    </tr>\n",
       "    <tr>\n",
       "      <th>104</th>\n",
       "      <td>256064</td>\n",
       "      <td>54.0</td>\n",
       "      <td>94</td>\n",
       "      <td>94.0</td>\n",
       "      <td>223761</td>\n",
       "      <td>Temperature Fahrenheit</td>\n",
       "    </tr>\n",
       "    <tr>\n",
       "      <th>105</th>\n",
       "      <td>256064</td>\n",
       "      <td>54.0</td>\n",
       "      <td>93.6</td>\n",
       "      <td>93.6</td>\n",
       "      <td>223761</td>\n",
       "      <td>Temperature Fahrenheit</td>\n",
       "    </tr>\n",
       "    <tr>\n",
       "      <th>106</th>\n",
       "      <td>256064</td>\n",
       "      <td>54.0</td>\n",
       "      <td>97.8</td>\n",
       "      <td>97.8</td>\n",
       "      <td>223761</td>\n",
       "      <td>Temperature Fahrenheit</td>\n",
       "    </tr>\n",
       "    <tr>\n",
       "      <th>107</th>\n",
       "      <td>256064</td>\n",
       "      <td>54.0</td>\n",
       "      <td>97.6</td>\n",
       "      <td>97.6</td>\n",
       "      <td>223761</td>\n",
       "      <td>Temperature Fahrenheit</td>\n",
       "    </tr>\n",
       "    <tr>\n",
       "      <th>108</th>\n",
       "      <td>256064</td>\n",
       "      <td>54.0</td>\n",
       "      <td>98.2</td>\n",
       "      <td>98.2</td>\n",
       "      <td>223761</td>\n",
       "      <td>Temperature Fahrenheit</td>\n",
       "    </tr>\n",
       "    <tr>\n",
       "      <th>109</th>\n",
       "      <td>256064</td>\n",
       "      <td>54.0</td>\n",
       "      <td>99.4</td>\n",
       "      <td>99.4</td>\n",
       "      <td>223761</td>\n",
       "      <td>Temperature Fahrenheit</td>\n",
       "    </tr>\n",
       "  </tbody>\n",
       "</table>\n",
       "<p>110 rows × 6 columns</p>\n",
       "</div>"
      ],
      "text/plain": [
       "     icustay_id  mins value  valuenum  itemid                   label\n",
       "0        256064   0.0    97      97.0  223761  Temperature Fahrenheit\n",
       "1        256064   9.0  98.4      98.4  223761  Temperature Fahrenheit\n",
       "2        256064   9.0  98.8      98.8  223761  Temperature Fahrenheit\n",
       "3        256064  24.0  98.4      98.4  223761  Temperature Fahrenheit\n",
       "4        256064  24.0  97.3      97.3  223761  Temperature Fahrenheit\n",
       "5        256064  24.0  96.6      96.6  223761  Temperature Fahrenheit\n",
       "6        256064  33.0  95.4      95.4  223761  Temperature Fahrenheit\n",
       "7        256064  34.0  98.9      98.9  223761  Temperature Fahrenheit\n",
       "8        256064  39.0  96.3      96.3  223761  Temperature Fahrenheit\n",
       "9        256064  49.0  98.7      98.7  223761  Temperature Fahrenheit\n",
       "..          ...   ...   ...       ...     ...                     ...\n",
       "100      256064  54.0    98      98.0  223761  Temperature Fahrenheit\n",
       "101      256064  54.0  97.6      97.6  223761  Temperature Fahrenheit\n",
       "102      256064  54.0  98.6      98.6  223761  Temperature Fahrenheit\n",
       "103      256064  54.0  98.8      98.8  223761  Temperature Fahrenheit\n",
       "104      256064  54.0    94      94.0  223761  Temperature Fahrenheit\n",
       "105      256064  54.0  93.6      93.6  223761  Temperature Fahrenheit\n",
       "106      256064  54.0  97.8      97.8  223761  Temperature Fahrenheit\n",
       "107      256064  54.0  97.6      97.6  223761  Temperature Fahrenheit\n",
       "108      256064  54.0  98.2      98.2  223761  Temperature Fahrenheit\n",
       "109      256064  54.0  99.4      99.4  223761  Temperature Fahrenheit\n",
       "\n",
       "[110 rows x 6 columns]"
      ]
     },
     "execution_count": 16,
     "metadata": {},
     "output_type": "execute_result"
    }
   ],
   "source": [
    "pat_fah = pat[pat.label.str.find('Temperature Fahrenheit')>=0]\n",
    "pat_fah.reset_index(drop=True)"
   ]
  },
  {
   "cell_type": "code",
   "execution_count": 17,
   "metadata": {},
   "outputs": [
    {
     "name": "stderr",
     "output_type": "stream",
     "text": [
      "/Users/grace/anaconda3/lib/python3.7/site-packages/ipykernel_launcher.py:2: SettingWithCopyWarning: \n",
      "A value is trying to be set on a copy of a slice from a DataFrame.\n",
      "Try using .loc[row_indexer,col_indexer] = value instead\n",
      "\n",
      "See the caveats in the documentation: http://pandas.pydata.org/pandas-docs/stable/indexing.html#indexing-view-versus-copy\n",
      "  \n"
     ]
    },
    {
     "data": {
      "text/html": [
       "<div>\n",
       "<style scoped>\n",
       "    .dataframe tbody tr th:only-of-type {\n",
       "        vertical-align: middle;\n",
       "    }\n",
       "\n",
       "    .dataframe tbody tr th {\n",
       "        vertical-align: top;\n",
       "    }\n",
       "\n",
       "    .dataframe thead th {\n",
       "        text-align: right;\n",
       "    }\n",
       "</style>\n",
       "<table border=\"1\" class=\"dataframe\">\n",
       "  <thead>\n",
       "    <tr style=\"text-align: right;\">\n",
       "      <th></th>\n",
       "      <th>icustay_id</th>\n",
       "      <th>mins</th>\n",
       "      <th>value</th>\n",
       "      <th>valuenum</th>\n",
       "      <th>itemid</th>\n",
       "      <th>label</th>\n",
       "    </tr>\n",
       "  </thead>\n",
       "  <tbody>\n",
       "    <tr>\n",
       "      <th>29</th>\n",
       "      <td>256064</td>\n",
       "      <td>0.0</td>\n",
       "      <td>97</td>\n",
       "      <td>36.111111</td>\n",
       "      <td>223761</td>\n",
       "      <td>Temperature Fahrenheit</td>\n",
       "    </tr>\n",
       "    <tr>\n",
       "      <th>2930</th>\n",
       "      <td>256064</td>\n",
       "      <td>9.0</td>\n",
       "      <td>98.4</td>\n",
       "      <td>36.888889</td>\n",
       "      <td>223761</td>\n",
       "      <td>Temperature Fahrenheit</td>\n",
       "    </tr>\n",
       "    <tr>\n",
       "      <th>3002</th>\n",
       "      <td>256064</td>\n",
       "      <td>9.0</td>\n",
       "      <td>98.8</td>\n",
       "      <td>37.111111</td>\n",
       "      <td>223761</td>\n",
       "      <td>Temperature Fahrenheit</td>\n",
       "    </tr>\n",
       "    <tr>\n",
       "      <th>9558</th>\n",
       "      <td>256064</td>\n",
       "      <td>24.0</td>\n",
       "      <td>98.4</td>\n",
       "      <td>36.888889</td>\n",
       "      <td>223761</td>\n",
       "      <td>Temperature Fahrenheit</td>\n",
       "    </tr>\n",
       "    <tr>\n",
       "      <th>9842</th>\n",
       "      <td>256064</td>\n",
       "      <td>24.0</td>\n",
       "      <td>97.3</td>\n",
       "      <td>36.277778</td>\n",
       "      <td>223761</td>\n",
       "      <td>Temperature Fahrenheit</td>\n",
       "    </tr>\n",
       "  </tbody>\n",
       "</table>\n",
       "</div>"
      ],
      "text/plain": [
       "      icustay_id  mins value   valuenum  itemid                   label\n",
       "29        256064   0.0    97  36.111111  223761  Temperature Fahrenheit\n",
       "2930      256064   9.0  98.4  36.888889  223761  Temperature Fahrenheit\n",
       "3002      256064   9.0  98.8  37.111111  223761  Temperature Fahrenheit\n",
       "9558      256064  24.0  98.4  36.888889  223761  Temperature Fahrenheit\n",
       "9842      256064  24.0  97.3  36.277778  223761  Temperature Fahrenheit"
      ]
     },
     "execution_count": 17,
     "metadata": {},
     "output_type": "execute_result"
    }
   ],
   "source": [
    "# Fahrenheit체온 값을 Celsius 값으로 변환\n",
    "pat_fah['valuenum'] = pat_fah.valuenum.map(lambda x: (x - 32)*(5/9))\n",
    "pat_fah.head()"
   ]
  },
  {
   "cell_type": "code",
   "execution_count": 18,
   "metadata": {},
   "outputs": [
    {
     "data": {
      "text/html": [
       "<div>\n",
       "<style scoped>\n",
       "    .dataframe tbody tr th:only-of-type {\n",
       "        vertical-align: middle;\n",
       "    }\n",
       "\n",
       "    .dataframe tbody tr th {\n",
       "        vertical-align: top;\n",
       "    }\n",
       "\n",
       "    .dataframe thead th {\n",
       "        text-align: right;\n",
       "    }\n",
       "</style>\n",
       "<table border=\"1\" class=\"dataframe\">\n",
       "  <thead>\n",
       "    <tr style=\"text-align: right;\">\n",
       "      <th></th>\n",
       "      <th>icustay_id</th>\n",
       "      <th>mins</th>\n",
       "      <th>value</th>\n",
       "      <th>valuenum</th>\n",
       "      <th>itemid</th>\n",
       "      <th>label</th>\n",
       "    </tr>\n",
       "  </thead>\n",
       "  <tbody>\n",
       "    <tr>\n",
       "      <th>29</th>\n",
       "      <td>256064</td>\n",
       "      <td>0.0</td>\n",
       "      <td>97</td>\n",
       "      <td>36.111111</td>\n",
       "      <td>223761</td>\n",
       "      <td>Temperature Fahrenheit</td>\n",
       "    </tr>\n",
       "    <tr>\n",
       "      <th>3136</th>\n",
       "      <td>256064</td>\n",
       "      <td>9.0</td>\n",
       "      <td>36.2</td>\n",
       "      <td>36.200000</td>\n",
       "      <td>223762</td>\n",
       "      <td>Temperature Celsius</td>\n",
       "    </tr>\n",
       "    <tr>\n",
       "      <th>3169</th>\n",
       "      <td>256064</td>\n",
       "      <td>9.0</td>\n",
       "      <td>37.3</td>\n",
       "      <td>37.300000</td>\n",
       "      <td>223762</td>\n",
       "      <td>Temperature Celsius</td>\n",
       "    </tr>\n",
       "    <tr>\n",
       "      <th>2930</th>\n",
       "      <td>256064</td>\n",
       "      <td>9.0</td>\n",
       "      <td>98.4</td>\n",
       "      <td>36.888889</td>\n",
       "      <td>223761</td>\n",
       "      <td>Temperature Fahrenheit</td>\n",
       "    </tr>\n",
       "    <tr>\n",
       "      <th>3002</th>\n",
       "      <td>256064</td>\n",
       "      <td>9.0</td>\n",
       "      <td>98.8</td>\n",
       "      <td>37.111111</td>\n",
       "      <td>223761</td>\n",
       "      <td>Temperature Fahrenheit</td>\n",
       "    </tr>\n",
       "    <tr>\n",
       "      <th>9558</th>\n",
       "      <td>256064</td>\n",
       "      <td>24.0</td>\n",
       "      <td>98.4</td>\n",
       "      <td>36.888889</td>\n",
       "      <td>223761</td>\n",
       "      <td>Temperature Fahrenheit</td>\n",
       "    </tr>\n",
       "    <tr>\n",
       "      <th>9842</th>\n",
       "      <td>256064</td>\n",
       "      <td>24.0</td>\n",
       "      <td>97.3</td>\n",
       "      <td>36.277778</td>\n",
       "      <td>223761</td>\n",
       "      <td>Temperature Fahrenheit</td>\n",
       "    </tr>\n",
       "    <tr>\n",
       "      <th>9843</th>\n",
       "      <td>256064</td>\n",
       "      <td>24.0</td>\n",
       "      <td>96.6</td>\n",
       "      <td>35.888889</td>\n",
       "      <td>223761</td>\n",
       "      <td>Temperature Fahrenheit</td>\n",
       "    </tr>\n",
       "    <tr>\n",
       "      <th>13288</th>\n",
       "      <td>256064</td>\n",
       "      <td>33.0</td>\n",
       "      <td>95.4</td>\n",
       "      <td>35.222222</td>\n",
       "      <td>223761</td>\n",
       "      <td>Temperature Fahrenheit</td>\n",
       "    </tr>\n",
       "    <tr>\n",
       "      <th>13394</th>\n",
       "      <td>256064</td>\n",
       "      <td>34.0</td>\n",
       "      <td>98.9</td>\n",
       "      <td>37.166667</td>\n",
       "      <td>223761</td>\n",
       "      <td>Temperature Fahrenheit</td>\n",
       "    </tr>\n",
       "    <tr>\n",
       "      <th>...</th>\n",
       "      <td>...</td>\n",
       "      <td>...</td>\n",
       "      <td>...</td>\n",
       "      <td>...</td>\n",
       "      <td>...</td>\n",
       "      <td>...</td>\n",
       "    </tr>\n",
       "    <tr>\n",
       "      <th>38500</th>\n",
       "      <td>256064</td>\n",
       "      <td>54.0</td>\n",
       "      <td>37.3</td>\n",
       "      <td>37.300000</td>\n",
       "      <td>223762</td>\n",
       "      <td>Temperature Celsius</td>\n",
       "    </tr>\n",
       "    <tr>\n",
       "      <th>38890</th>\n",
       "      <td>256064</td>\n",
       "      <td>54.0</td>\n",
       "      <td>36.3</td>\n",
       "      <td>36.300000</td>\n",
       "      <td>223762</td>\n",
       "      <td>Temperature Celsius</td>\n",
       "    </tr>\n",
       "    <tr>\n",
       "      <th>38897</th>\n",
       "      <td>256064</td>\n",
       "      <td>54.0</td>\n",
       "      <td>37.4</td>\n",
       "      <td>37.400000</td>\n",
       "      <td>223762</td>\n",
       "      <td>Temperature Celsius</td>\n",
       "    </tr>\n",
       "    <tr>\n",
       "      <th>39034</th>\n",
       "      <td>256064</td>\n",
       "      <td>54.0</td>\n",
       "      <td>36.6</td>\n",
       "      <td>36.600000</td>\n",
       "      <td>223762</td>\n",
       "      <td>Temperature Celsius</td>\n",
       "    </tr>\n",
       "    <tr>\n",
       "      <th>39372</th>\n",
       "      <td>256064</td>\n",
       "      <td>54.0</td>\n",
       "      <td>36.7</td>\n",
       "      <td>36.700000</td>\n",
       "      <td>223762</td>\n",
       "      <td>Temperature Celsius</td>\n",
       "    </tr>\n",
       "    <tr>\n",
       "      <th>39525</th>\n",
       "      <td>256064</td>\n",
       "      <td>54.0</td>\n",
       "      <td>37.2</td>\n",
       "      <td>37.200000</td>\n",
       "      <td>223762</td>\n",
       "      <td>Temperature Celsius</td>\n",
       "    </tr>\n",
       "    <tr>\n",
       "      <th>39542</th>\n",
       "      <td>256064</td>\n",
       "      <td>54.0</td>\n",
       "      <td>36.4</td>\n",
       "      <td>36.400000</td>\n",
       "      <td>223762</td>\n",
       "      <td>Temperature Celsius</td>\n",
       "    </tr>\n",
       "    <tr>\n",
       "      <th>39570</th>\n",
       "      <td>256064</td>\n",
       "      <td>54.0</td>\n",
       "      <td>36.8</td>\n",
       "      <td>36.800000</td>\n",
       "      <td>223762</td>\n",
       "      <td>Temperature Celsius</td>\n",
       "    </tr>\n",
       "    <tr>\n",
       "      <th>38360</th>\n",
       "      <td>256064</td>\n",
       "      <td>54.0</td>\n",
       "      <td>36.4</td>\n",
       "      <td>36.400000</td>\n",
       "      <td>223762</td>\n",
       "      <td>Temperature Celsius</td>\n",
       "    </tr>\n",
       "    <tr>\n",
       "      <th>40738</th>\n",
       "      <td>256064</td>\n",
       "      <td>54.0</td>\n",
       "      <td>99.4</td>\n",
       "      <td>37.444444</td>\n",
       "      <td>223761</td>\n",
       "      <td>Temperature Fahrenheit</td>\n",
       "    </tr>\n",
       "  </tbody>\n",
       "</table>\n",
       "<p>184 rows × 6 columns</p>\n",
       "</div>"
      ],
      "text/plain": [
       "       icustay_id  mins value   valuenum  itemid                   label\n",
       "29         256064   0.0    97  36.111111  223761  Temperature Fahrenheit\n",
       "3136       256064   9.0  36.2  36.200000  223762     Temperature Celsius\n",
       "3169       256064   9.0  37.3  37.300000  223762     Temperature Celsius\n",
       "2930       256064   9.0  98.4  36.888889  223761  Temperature Fahrenheit\n",
       "3002       256064   9.0  98.8  37.111111  223761  Temperature Fahrenheit\n",
       "9558       256064  24.0  98.4  36.888889  223761  Temperature Fahrenheit\n",
       "9842       256064  24.0  97.3  36.277778  223761  Temperature Fahrenheit\n",
       "9843       256064  24.0  96.6  35.888889  223761  Temperature Fahrenheit\n",
       "13288      256064  33.0  95.4  35.222222  223761  Temperature Fahrenheit\n",
       "13394      256064  34.0  98.9  37.166667  223761  Temperature Fahrenheit\n",
       "...           ...   ...   ...        ...     ...                     ...\n",
       "38500      256064  54.0  37.3  37.300000  223762     Temperature Celsius\n",
       "38890      256064  54.0  36.3  36.300000  223762     Temperature Celsius\n",
       "38897      256064  54.0  37.4  37.400000  223762     Temperature Celsius\n",
       "39034      256064  54.0  36.6  36.600000  223762     Temperature Celsius\n",
       "39372      256064  54.0  36.7  36.700000  223762     Temperature Celsius\n",
       "39525      256064  54.0  37.2  37.200000  223762     Temperature Celsius\n",
       "39542      256064  54.0  36.4  36.400000  223762     Temperature Celsius\n",
       "39570      256064  54.0  36.8  36.800000  223762     Temperature Celsius\n",
       "38360      256064  54.0  36.4  36.400000  223762     Temperature Celsius\n",
       "40738      256064  54.0  99.4  37.444444  223761  Temperature Fahrenheit\n",
       "\n",
       "[184 rows x 6 columns]"
      ]
     },
     "execution_count": 18,
     "metadata": {},
     "output_type": "execute_result"
    },
    {
     "data": {
      "text/plain": [
       "(184, 6)"
      ]
     },
     "execution_count": 18,
     "metadata": {},
     "output_type": "execute_result"
    }
   ],
   "source": [
    "pat_temp = pd.concat([pat[pat.label.str.find('Temperature Celsius')>=0], \n",
    "                      pat_fah])\n",
    "pat_temp.sort_values(by='mins')\n",
    "pat_temp.shape"
   ]
  },
  {
   "cell_type": "code",
   "execution_count": 19,
   "metadata": {},
   "outputs": [
    {
     "data": {
      "text/plain": [
       "<Figure size 1440x720 with 0 Axes>"
      ]
     },
     "execution_count": 19,
     "metadata": {},
     "output_type": "execute_result"
    },
    {
     "data": {
      "text/plain": [
       "[<matplotlib.lines.Line2D at 0x11b80b7b8>]"
      ]
     },
     "execution_count": 19,
     "metadata": {},
     "output_type": "execute_result"
    },
    {
     "data": {
      "text/plain": [
       "[<matplotlib.lines.Line2D at 0x11b0b62e8>]"
      ]
     },
     "execution_count": 19,
     "metadata": {},
     "output_type": "execute_result"
    },
    {
     "data": {
      "text/plain": [
       "Text(0.5,0,'minutes after admission')"
      ]
     },
     "execution_count": 19,
     "metadata": {},
     "output_type": "execute_result"
    },
    {
     "data": {
      "text/plain": [
       "Text(0,0.5,'Temperate(Celsius)')"
      ]
     },
     "execution_count": 19,
     "metadata": {},
     "output_type": "execute_result"
    },
    {
     "data": {
      "text/plain": [
       "Text(0.5,1,'Temperate change over time from admission to icu')"
      ]
     },
     "execution_count": 19,
     "metadata": {},
     "output_type": "execute_result"
    },
    {
     "data": {
      "text/plain": [
       "(32, 40)"
      ]
     },
     "execution_count": 19,
     "metadata": {},
     "output_type": "execute_result"
    },
    {
     "data": {
      "image/png": "[encoded data removed]",
      "text/plain": [
       "<Figure size 1440x720 with 1 Axes>"
      ]
     },
     "metadata": {
      "needs_background": "light"
     },
     "output_type": "display_data"
    }
   ],
   "source": [
    "plt.figure(figsize=(20, 10))\n",
    "\n",
    "plt.plot(pat_temp.mins, pat_temp.valuenum, 'k+')\n",
    "plt.plot(pat_temp.mins, [37.5]*len(pat_temp.valuenum), 'r--')\n",
    "\n",
    "plt.xlabel('minutes after admission')\n",
    "plt.ylabel('Temperate(Celsius)')\n",
    "plt.title('Temperate change over time from admission to icu')\n",
    "plt.ylim(32, 40)"
   ]
  },
  {
   "cell_type": "markdown",
   "metadata": {},
   "source": [
    "### GCS(Glasgow Coma Scale) 환자의 의식 판단\n",
    "ICU에서 환자의 상태를 모니터링할 때 주로 활용한다. 주로 세가지 라벨이 있는데 Eye, verbal, motor response 등이 있다."
   ]
  },
  {
   "cell_type": "code",
   "execution_count": 20,
   "metadata": {},
   "outputs": [
    {
     "data": {
      "text/html": [
       "<div>\n",
       "<style scoped>\n",
       "    .dataframe tbody tr th:only-of-type {\n",
       "        vertical-align: middle;\n",
       "    }\n",
       "\n",
       "    .dataframe tbody tr th {\n",
       "        vertical-align: top;\n",
       "    }\n",
       "\n",
       "    .dataframe thead th {\n",
       "        text-align: right;\n",
       "    }\n",
       "</style>\n",
       "<table border=\"1\" class=\"dataframe\">\n",
       "  <thead>\n",
       "    <tr style=\"text-align: right;\">\n",
       "      <th></th>\n",
       "      <th>icustay_id</th>\n",
       "      <th>mins</th>\n",
       "      <th>value</th>\n",
       "      <th>valuenum</th>\n",
       "      <th>itemid</th>\n",
       "      <th>label</th>\n",
       "    </tr>\n",
       "  </thead>\n",
       "  <tbody>\n",
       "    <tr>\n",
       "      <th>280</th>\n",
       "      <td>256064</td>\n",
       "      <td>2.0</td>\n",
       "      <td>To Speech</td>\n",
       "      <td>3.0</td>\n",
       "      <td>220739</td>\n",
       "      <td>GCS - Eye Opening</td>\n",
       "    </tr>\n",
       "    <tr>\n",
       "      <th>288</th>\n",
       "      <td>256064</td>\n",
       "      <td>2.0</td>\n",
       "      <td>To Speech</td>\n",
       "      <td>3.0</td>\n",
       "      <td>220739</td>\n",
       "      <td>GCS - Eye Opening</td>\n",
       "    </tr>\n",
       "    <tr>\n",
       "      <th>823</th>\n",
       "      <td>256064</td>\n",
       "      <td>3.0</td>\n",
       "      <td>To Pain</td>\n",
       "      <td>2.0</td>\n",
       "      <td>220739</td>\n",
       "      <td>GCS - Eye Opening</td>\n",
       "    </tr>\n",
       "    <tr>\n",
       "      <th>844</th>\n",
       "      <td>256064</td>\n",
       "      <td>4.0</td>\n",
       "      <td>None</td>\n",
       "      <td>1.0</td>\n",
       "      <td>220739</td>\n",
       "      <td>GCS - Eye Opening</td>\n",
       "    </tr>\n",
       "    <tr>\n",
       "      <th>954</th>\n",
       "      <td>256064</td>\n",
       "      <td>4.0</td>\n",
       "      <td>To Speech</td>\n",
       "      <td>3.0</td>\n",
       "      <td>220739</td>\n",
       "      <td>GCS - Eye Opening</td>\n",
       "    </tr>\n",
       "  </tbody>\n",
       "</table>\n",
       "</div>"
      ],
      "text/plain": [
       "     icustay_id  mins      value  valuenum  itemid              label\n",
       "280      256064   2.0  To Speech       3.0  220739  GCS - Eye Opening\n",
       "288      256064   2.0  To Speech       3.0  220739  GCS - Eye Opening\n",
       "823      256064   3.0    To Pain       2.0  220739  GCS - Eye Opening\n",
       "844      256064   4.0       None       1.0  220739  GCS - Eye Opening\n",
       "954      256064   4.0  To Speech       3.0  220739  GCS - Eye Opening"
      ]
     },
     "execution_count": 20,
     "metadata": {},
     "output_type": "execute_result"
    }
   ],
   "source": [
    "pat[pat.label=='GCS - Eye Opening'].head()"
   ]
  },
  {
   "cell_type": "code",
   "execution_count": 21,
   "metadata": {},
   "outputs": [
    {
     "data": {
      "text/plain": [
       "<Figure size 1440x720 with 0 Axes>"
      ]
     },
     "execution_count": 21,
     "metadata": {},
     "output_type": "execute_result"
    },
    {
     "data": {
      "text/plain": [
       "[<matplotlib.lines.Line2D at 0x11ae8e2b0>]"
      ]
     },
     "execution_count": 21,
     "metadata": {},
     "output_type": "execute_result"
    },
    {
     "data": {
      "text/plain": [
       "[<matplotlib.lines.Line2D at 0x11a90f588>]"
      ]
     },
     "execution_count": 21,
     "metadata": {},
     "output_type": "execute_result"
    },
    {
     "data": {
      "text/plain": [
       "[<matplotlib.lines.Line2D at 0x11ad765f8>]"
      ]
     },
     "execution_count": 21,
     "metadata": {},
     "output_type": "execute_result"
    },
    {
     "data": {
      "text/plain": [
       "Text(2,165,'To Speech')"
      ]
     },
     "execution_count": 21,
     "metadata": {},
     "output_type": "execute_result"
    },
    {
     "data": {
      "text/plain": [
       "Text(9,165,'To Speech')"
      ]
     },
     "execution_count": 21,
     "metadata": {},
     "output_type": "execute_result"
    },
    {
     "data": {
      "text/plain": [
       "Text(15,165,'To Pain')"
      ]
     },
     "execution_count": 21,
     "metadata": {},
     "output_type": "execute_result"
    },
    {
     "data": {
      "text/plain": [
       "Text(21,165,'Spontaneously')"
      ]
     },
     "execution_count": 21,
     "metadata": {},
     "output_type": "execute_result"
    },
    {
     "data": {
      "text/plain": [
       "Text(31,165,'To Pain')"
      ]
     },
     "execution_count": 21,
     "metadata": {},
     "output_type": "execute_result"
    },
    {
     "data": {
      "text/plain": [
       "Text(41,165,'To Speech')"
      ]
     },
     "execution_count": 21,
     "metadata": {},
     "output_type": "execute_result"
    },
    {
     "data": {
      "text/plain": [
       "Text(54,165,'To Speech')"
      ]
     },
     "execution_count": 21,
     "metadata": {},
     "output_type": "execute_result"
    },
    {
     "data": {
      "text/plain": [
       "Text(54,165,'None')"
      ]
     },
     "execution_count": 21,
     "metadata": {},
     "output_type": "execute_result"
    },
    {
     "data": {
      "text/plain": [
       "Text(-20,165,'GCS - Eye Opening')"
      ]
     },
     "execution_count": 21,
     "metadata": {},
     "output_type": "execute_result"
    },
    {
     "data": {
      "text/plain": [
       "Text(2,150,'No response')"
      ]
     },
     "execution_count": 21,
     "metadata": {},
     "output_type": "execute_result"
    },
    {
     "data": {
      "text/plain": [
       "Text(10,150,'Localizes Pain')"
      ]
     },
     "execution_count": 21,
     "metadata": {},
     "output_type": "execute_result"
    },
    {
     "data": {
      "text/plain": [
       "Text(19,150,'No response')"
      ]
     },
     "execution_count": 21,
     "metadata": {},
     "output_type": "execute_result"
    },
    {
     "data": {
      "text/plain": [
       "Text(31,150,'No response')"
      ]
     },
     "execution_count": 21,
     "metadata": {},
     "output_type": "execute_result"
    },
    {
     "data": {
      "text/plain": [
       "Text(45,150,'Flex-withdraws')"
      ]
     },
     "execution_count": 21,
     "metadata": {},
     "output_type": "execute_result"
    },
    {
     "data": {
      "text/plain": [
       "Text(54,150,'Localizes Pain')"
      ]
     },
     "execution_count": 21,
     "metadata": {},
     "output_type": "execute_result"
    },
    {
     "data": {
      "text/plain": [
       "Text(-20,150,'GCS - Motor Response')"
      ]
     },
     "execution_count": 21,
     "metadata": {},
     "output_type": "execute_result"
    },
    {
     "data": {
      "text/plain": [
       "Text(2,135,'No Response-ETT')"
      ]
     },
     "execution_count": 21,
     "metadata": {},
     "output_type": "execute_result"
    },
    {
     "data": {
      "text/plain": [
       "Text(10,135,'No Response-ETT')"
      ]
     },
     "execution_count": 21,
     "metadata": {},
     "output_type": "execute_result"
    },
    {
     "data": {
      "text/plain": [
       "Text(19,135,'No Response-ETT')"
      ]
     },
     "execution_count": 21,
     "metadata": {},
     "output_type": "execute_result"
    },
    {
     "data": {
      "text/plain": [
       "Text(31,135,'No Response')"
      ]
     },
     "execution_count": 21,
     "metadata": {},
     "output_type": "execute_result"
    },
    {
     "data": {
      "text/plain": [
       "Text(42,135,'No Response-ETT')"
      ]
     },
     "execution_count": 21,
     "metadata": {},
     "output_type": "execute_result"
    },
    {
     "data": {
      "text/plain": [
       "Text(54,135,'No Response-ETT')"
      ]
     },
     "execution_count": 21,
     "metadata": {},
     "output_type": "execute_result"
    },
    {
     "data": {
      "text/plain": [
       "Text(-20,135,'GCS - Verbal Response')"
      ]
     },
     "execution_count": 21,
     "metadata": {},
     "output_type": "execute_result"
    },
    {
     "data": {
      "text/plain": [
       "Text(0.5,1,'Vital Sign and GCS change over time from admission')"
      ]
     },
     "execution_count": 21,
     "metadata": {},
     "output_type": "execute_result"
    },
    {
     "data": {
      "text/plain": [
       "Text(0.5,0,'Time (mins)')"
      ]
     },
     "execution_count": 21,
     "metadata": {},
     "output_type": "execute_result"
    },
    {
     "data": {
      "text/plain": [
       "Text(0,0.5,'Respiratory Rate, Temperature, Heart rate or GCS')"
      ]
     },
     "execution_count": 21,
     "metadata": {},
     "output_type": "execute_result"
    },
    {
     "data": {
      "text/plain": [
       "(10, 170)"
      ]
     },
     "execution_count": 21,
     "metadata": {},
     "output_type": "execute_result"
    },
    {
     "data": {
      "image/png": "[encoded data removed]",
      "text/plain": [
       "<Figure size 1440x720 with 1 Axes>"
      ]
     },
     "metadata": {
      "needs_background": "light"
     },
     "output_type": "display_data"
    }
   ],
   "source": [
    "plt.figure(figsize=(20, 10))\n",
    "\n",
    "# heart rate\n",
    "plt.plot(pat.mins[pat.label=='Heart Rate'], pat.valuenum[pat.label=='Heart Rate'], 'b+')\n",
    "\n",
    "# respiratory rate\n",
    "plt.plot(pat.mins[pat.label=='Respiratory Rate'], pat.valuenum[pat.label=='Respiratory Rate'], 'r+')\n",
    "\n",
    "# temperate\n",
    "plt.plot(pat_temp.mins, pat_temp.valuenum, 'y+')\n",
    "\n",
    "# GCS plot annotate to avoid overlap\n",
    "for i, val in enumerate(pat.value[pat.label=='GCS - Eye Opening'].values):\n",
    "    if i%8==0 and i<60:\n",
    "        plt.annotate(val, (pat.mins[pat.label=='GCS - Eye Opening'].values[i], 165))\n",
    "plt.text(-20, 165, 'GCS - Eye Opening')\n",
    "\n",
    "for i, val in enumerate(pat.value[pat.label=='GCS - Motor Response'].values):\n",
    "    if i%10==0 and i<60:\n",
    "        plt.annotate(val, (pat.mins[pat.label=='GCS - Motor Response'].values[i], 150))\n",
    "plt.text(-20, 150, 'GCS - Motor Response')\n",
    "\n",
    "for i, val in enumerate(pat.value[pat.label=='GCS - Verbal Response'].values):\n",
    "    if i%10==0 and i<60:\n",
    "        plt.annotate(val, (pat.mins[pat.label=='GCS - Verbal Response'].values[i], 135))\n",
    "plt.text(-20, 135, 'GCS - Verbal Response')\n",
    "\n",
    "plt.title('Vital Sign and GCS change over time from admission')\n",
    "plt.xlabel('Time (mins)')\n",
    "plt.ylabel('Respiratory Rate, Temperature, Heart rate or GCS')\n",
    "plt.ylim(10, 170)"
   ]
  },
  {
   "cell_type": "markdown",
   "metadata": {},
   "source": [
    "## 의학적 의견\n",
    "- 환자의 의식의 변화"
   ]
  },
  {
   "cell_type": "code",
   "execution_count": null,
   "metadata": {},
   "outputs": [],
   "source": []
  },
  {
   "cell_type": "markdown",
   "metadata": {},
   "source": [
    "## creatinine"
   ]
  },
  {
   "cell_type": "code",
   "execution_count": 22,
   "metadata": {},
   "outputs": [
    {
     "data": {
      "text/html": [
       "<div>\n",
       "<style scoped>\n",
       "    .dataframe tbody tr th:only-of-type {\n",
       "        vertical-align: middle;\n",
       "    }\n",
       "\n",
       "    .dataframe tbody tr th {\n",
       "        vertical-align: top;\n",
       "    }\n",
       "\n",
       "    .dataframe thead th {\n",
       "        text-align: right;\n",
       "    }\n",
       "</style>\n",
       "<table border=\"1\" class=\"dataframe\">\n",
       "  <thead>\n",
       "    <tr style=\"text-align: right;\">\n",
       "      <th></th>\n",
       "      <th>icustay_id</th>\n",
       "      <th>mins</th>\n",
       "      <th>value</th>\n",
       "      <th>valuenum</th>\n",
       "      <th>itemid</th>\n",
       "      <th>label</th>\n",
       "    </tr>\n",
       "  </thead>\n",
       "  <tbody>\n",
       "    <tr>\n",
       "      <th>23</th>\n",
       "      <td>256064</td>\n",
       "      <td>0.0</td>\n",
       "      <td>2.1</td>\n",
       "      <td>2.1</td>\n",
       "      <td>220615</td>\n",
       "      <td>Creatinine</td>\n",
       "    </tr>\n",
       "    <tr>\n",
       "      <th>403</th>\n",
       "      <td>256064</td>\n",
       "      <td>2.0</td>\n",
       "      <td>1.9</td>\n",
       "      <td>1.9</td>\n",
       "      <td>220615</td>\n",
       "      <td>Creatinine</td>\n",
       "    </tr>\n",
       "    <tr>\n",
       "      <th>1525</th>\n",
       "      <td>256064</td>\n",
       "      <td>5.0</td>\n",
       "      <td>2.4</td>\n",
       "      <td>2.4</td>\n",
       "      <td>220615</td>\n",
       "      <td>Creatinine</td>\n",
       "    </tr>\n",
       "    <tr>\n",
       "      <th>2304</th>\n",
       "      <td>256064</td>\n",
       "      <td>7.0</td>\n",
       "      <td>2.8</td>\n",
       "      <td>2.8</td>\n",
       "      <td>220615</td>\n",
       "      <td>Creatinine</td>\n",
       "    </tr>\n",
       "    <tr>\n",
       "      <th>2360</th>\n",
       "      <td>256064</td>\n",
       "      <td>8.0</td>\n",
       "      <td>1.8</td>\n",
       "      <td>1.8</td>\n",
       "      <td>220615</td>\n",
       "      <td>Creatinine</td>\n",
       "    </tr>\n",
       "    <tr>\n",
       "      <th>2554</th>\n",
       "      <td>256064</td>\n",
       "      <td>8.0</td>\n",
       "      <td>2.2</td>\n",
       "      <td>2.2</td>\n",
       "      <td>220615</td>\n",
       "      <td>Creatinine</td>\n",
       "    </tr>\n",
       "    <tr>\n",
       "      <th>3152</th>\n",
       "      <td>256064</td>\n",
       "      <td>9.0</td>\n",
       "      <td>2.8</td>\n",
       "      <td>2.8</td>\n",
       "      <td>220615</td>\n",
       "      <td>Creatinine</td>\n",
       "    </tr>\n",
       "    <tr>\n",
       "      <th>3593</th>\n",
       "      <td>256064</td>\n",
       "      <td>10.0</td>\n",
       "      <td>1.9</td>\n",
       "      <td>1.9</td>\n",
       "      <td>220615</td>\n",
       "      <td>Creatinine</td>\n",
       "    </tr>\n",
       "    <tr>\n",
       "      <th>7710</th>\n",
       "      <td>256064</td>\n",
       "      <td>19.0</td>\n",
       "      <td>2.5</td>\n",
       "      <td>2.5</td>\n",
       "      <td>220615</td>\n",
       "      <td>Creatinine</td>\n",
       "    </tr>\n",
       "    <tr>\n",
       "      <th>8601</th>\n",
       "      <td>256064</td>\n",
       "      <td>22.0</td>\n",
       "      <td>1.8</td>\n",
       "      <td>1.8</td>\n",
       "      <td>220615</td>\n",
       "      <td>Creatinine</td>\n",
       "    </tr>\n",
       "    <tr>\n",
       "      <th>...</th>\n",
       "      <td>...</td>\n",
       "      <td>...</td>\n",
       "      <td>...</td>\n",
       "      <td>...</td>\n",
       "      <td>...</td>\n",
       "      <td>...</td>\n",
       "    </tr>\n",
       "    <tr>\n",
       "      <th>16508</th>\n",
       "      <td>256064</td>\n",
       "      <td>44.0</td>\n",
       "      <td>1.8</td>\n",
       "      <td>1.8</td>\n",
       "      <td>220615</td>\n",
       "      <td>Creatinine</td>\n",
       "    </tr>\n",
       "    <tr>\n",
       "      <th>17400</th>\n",
       "      <td>256064</td>\n",
       "      <td>47.0</td>\n",
       "      <td>1.8</td>\n",
       "      <td>1.8</td>\n",
       "      <td>220615</td>\n",
       "      <td>Creatinine</td>\n",
       "    </tr>\n",
       "    <tr>\n",
       "      <th>17576</th>\n",
       "      <td>256064</td>\n",
       "      <td>47.0</td>\n",
       "      <td>2.5</td>\n",
       "      <td>2.5</td>\n",
       "      <td>220615</td>\n",
       "      <td>Creatinine</td>\n",
       "    </tr>\n",
       "    <tr>\n",
       "      <th>19563</th>\n",
       "      <td>256064</td>\n",
       "      <td>53.0</td>\n",
       "      <td>1.7</td>\n",
       "      <td>1.7</td>\n",
       "      <td>220615</td>\n",
       "      <td>Creatinine</td>\n",
       "    </tr>\n",
       "    <tr>\n",
       "      <th>32081</th>\n",
       "      <td>256064</td>\n",
       "      <td>54.0</td>\n",
       "      <td>3</td>\n",
       "      <td>3.0</td>\n",
       "      <td>220615</td>\n",
       "      <td>Creatinine</td>\n",
       "    </tr>\n",
       "    <tr>\n",
       "      <th>39754</th>\n",
       "      <td>256064</td>\n",
       "      <td>54.0</td>\n",
       "      <td>2.5</td>\n",
       "      <td>2.5</td>\n",
       "      <td>220615</td>\n",
       "      <td>Creatinine</td>\n",
       "    </tr>\n",
       "    <tr>\n",
       "      <th>41087</th>\n",
       "      <td>256064</td>\n",
       "      <td>55.0</td>\n",
       "      <td>3</td>\n",
       "      <td>3.0</td>\n",
       "      <td>220615</td>\n",
       "      <td>Creatinine</td>\n",
       "    </tr>\n",
       "    <tr>\n",
       "      <th>41196</th>\n",
       "      <td>256064</td>\n",
       "      <td>55.0</td>\n",
       "      <td>1.9</td>\n",
       "      <td>1.9</td>\n",
       "      <td>220615</td>\n",
       "      <td>Creatinine</td>\n",
       "    </tr>\n",
       "    <tr>\n",
       "      <th>41476</th>\n",
       "      <td>256064</td>\n",
       "      <td>56.0</td>\n",
       "      <td>2.1</td>\n",
       "      <td>2.1</td>\n",
       "      <td>220615</td>\n",
       "      <td>Creatinine</td>\n",
       "    </tr>\n",
       "    <tr>\n",
       "      <th>42260</th>\n",
       "      <td>256064</td>\n",
       "      <td>58.0</td>\n",
       "      <td>2.6</td>\n",
       "      <td>2.6</td>\n",
       "      <td>220615</td>\n",
       "      <td>Creatinine</td>\n",
       "    </tr>\n",
       "  </tbody>\n",
       "</table>\n",
       "<p>28 rows × 6 columns</p>\n",
       "</div>"
      ],
      "text/plain": [
       "       icustay_id  mins value  valuenum  itemid       label\n",
       "23         256064   0.0   2.1       2.1  220615  Creatinine\n",
       "403        256064   2.0   1.9       1.9  220615  Creatinine\n",
       "1525       256064   5.0   2.4       2.4  220615  Creatinine\n",
       "2304       256064   7.0   2.8       2.8  220615  Creatinine\n",
       "2360       256064   8.0   1.8       1.8  220615  Creatinine\n",
       "2554       256064   8.0   2.2       2.2  220615  Creatinine\n",
       "3152       256064   9.0   2.8       2.8  220615  Creatinine\n",
       "3593       256064  10.0   1.9       1.9  220615  Creatinine\n",
       "7710       256064  19.0   2.5       2.5  220615  Creatinine\n",
       "8601       256064  22.0   1.8       1.8  220615  Creatinine\n",
       "...           ...   ...   ...       ...     ...         ...\n",
       "16508      256064  44.0   1.8       1.8  220615  Creatinine\n",
       "17400      256064  47.0   1.8       1.8  220615  Creatinine\n",
       "17576      256064  47.0   2.5       2.5  220615  Creatinine\n",
       "19563      256064  53.0   1.7       1.7  220615  Creatinine\n",
       "32081      256064  54.0     3       3.0  220615  Creatinine\n",
       "39754      256064  54.0   2.5       2.5  220615  Creatinine\n",
       "41087      256064  55.0     3       3.0  220615  Creatinine\n",
       "41196      256064  55.0   1.9       1.9  220615  Creatinine\n",
       "41476      256064  56.0   2.1       2.1  220615  Creatinine\n",
       "42260      256064  58.0   2.6       2.6  220615  Creatinine\n",
       "\n",
       "[28 rows x 6 columns]"
      ]
     },
     "execution_count": 22,
     "metadata": {},
     "output_type": "execute_result"
    }
   ],
   "source": [
    "pat[pat.label=='Creatinine']"
   ]
  },
  {
   "cell_type": "code",
   "execution_count": 23,
   "metadata": {},
   "outputs": [
    {
     "data": {
      "text/plain": [
       "<Figure size 1440x720 with 0 Axes>"
      ]
     },
     "execution_count": 23,
     "metadata": {},
     "output_type": "execute_result"
    },
    {
     "data": {
      "text/plain": [
       "[<matplotlib.lines.Line2D at 0x11a7d2358>]"
      ]
     },
     "execution_count": 23,
     "metadata": {},
     "output_type": "execute_result"
    },
    {
     "data": {
      "text/plain": [
       "Text(0.5,0,'minutes after admission')"
      ]
     },
     "execution_count": 23,
     "metadata": {},
     "output_type": "execute_result"
    },
    {
     "data": {
      "text/plain": [
       "Text(0,0.5,'Creatinine')"
      ]
     },
     "execution_count": 23,
     "metadata": {},
     "output_type": "execute_result"
    },
    {
     "data": {
      "text/plain": [
       "Text(0.5,1,'Creatinine change over time from admission to icu')"
      ]
     },
     "execution_count": 23,
     "metadata": {},
     "output_type": "execute_result"
    },
    {
     "data": {
      "image/png": "[encoded data removed]",
      "text/plain": [
       "<Figure size 1440x720 with 1 Axes>"
      ]
     },
     "metadata": {
      "needs_background": "light"
     },
     "output_type": "display_data"
    }
   ],
   "source": [
    "plt.figure(figsize=(20, 10))\n",
    "\n",
    "plt.plot(pat[pat.label=='Creatinine'].mins, pat[pat.label=='Creatinine'].valuenum, 'k+')\n",
    "\n",
    "plt.xlabel('minutes after admission')\n",
    "plt.ylabel('Creatinine')\n",
    "plt.title('Creatinine change over time from admission to icu')"
   ]
  },
  {
   "cell_type": "code",
   "execution_count": 55,
   "metadata": {},
   "outputs": [
    {
     "name": "stderr",
     "output_type": "stream",
     "text": [
      "/Users/grace/anaconda3/lib/python3.7/site-packages/ipykernel_launcher.py:5: FutureWarning: 'pandas.tools.plotting.lag_plot' is deprecated, import 'pandas.plotting.lag_plot' instead.\n",
      "  \"\"\"\n"
     ]
    },
    {
     "data": {
      "text/plain": [
       "<matplotlib.axes._subplots.AxesSubplot at 0x1c1f738b00>"
      ]
     },
     "execution_count": 55,
     "metadata": {},
     "output_type": "execute_result"
    },
    {
     "data": {
      "image/png": "[encoded data removed]",
      "text/plain": [
       "<Figure size 432x288 with 1 Axes>"
      ]
     },
     "metadata": {
      "needs_background": "light"
     },
     "output_type": "display_data"
    }
   ],
   "source": [
    "# from pandas.tools.plotting import lag_plot\n",
    "\n",
    "# df_creatinine = pat[pat.label=='Creatinine'].sort_values('mins').valuenum\n",
    "# df_creatinine = df_creatinine.reset_index(drop=True)\n",
    "# lag_plot(df_creatinine)\n",
    "# plt.show()"
   ]
  },
  {
   "cell_type": "code",
   "execution_count": 56,
   "metadata": {},
   "outputs": [
    {
     "name": "stderr",
     "output_type": "stream",
     "text": [
      "/Users/grace/anaconda3/lib/python3.7/site-packages/ipykernel_launcher.py:3: FutureWarning: 'pandas.tools.plotting.autocorrelation_plot' is deprecated, import 'pandas.plotting.autocorrelation_plot' instead.\n",
      "  This is separate from the ipykernel package so we can avoid doing imports until\n"
     ]
    },
    {
     "data": {
      "text/plain": [
       "<matplotlib.axes._subplots.AxesSubplot at 0x1c1f7c4cc0>"
      ]
     },
     "execution_count": 56,
     "metadata": {},
     "output_type": "execute_result"
    },
    {
     "data": {
      "image/png": "[encoded data removed]",
      "text/plain": [
       "<Figure size 432x288 with 1 Axes>"
      ]
     },
     "metadata": {
      "needs_background": "light"
     },
     "output_type": "display_data"
    }
   ],
   "source": [
    "# from pandas.tools.plotting import autocorrelation_plot\n",
    "\n",
    "# autocorrelation_plot(df_creatinine)"
   ]
  },
  {
   "cell_type": "code",
   "execution_count": 106,
   "metadata": {},
   "outputs": [],
   "source": [
    "# from statsmodels.tsa.ar_model import AR\n",
    "\n",
    "# #create train/test datasets\n",
    "# X = df_creatinine\n",
    "# train_data = X[0:int(len(X)*(0.7))]\n",
    "# test_data = X[int(len(X)*(0.7)):]\n",
    "\n",
    "# # train_data\n",
    "# # test_data"
   ]
  },
  {
   "cell_type": "code",
   "execution_count": 107,
   "metadata": {},
   "outputs": [],
   "source": [
    "# #train the autoregression model\n",
    "# model = AR(train_data)\n",
    "# model_fitted = model.fit()"
   ]
  },
  {
   "cell_type": "code",
   "execution_count": 108,
   "metadata": {},
   "outputs": [
    {
     "name": "stdout",
     "output_type": "stream",
     "text": [
      "The lag value chose is: 8\n",
      "The coefficients of the model are:\n",
      " const          0.843328\n",
      "L1.valuenum   -0.050229\n",
      "L2.valuenum    0.151836\n",
      "L3.valuenum   -0.045661\n",
      "L4.valuenum    0.342291\n",
      "L5.valuenum    0.445634\n",
      "L6.valuenum    0.122086\n",
      "L7.valuenum   -0.212318\n",
      "L8.valuenum   -0.177431\n",
      "dtype: float64\n"
     ]
    }
   ],
   "source": [
    "# print('The lag value chose is: %s' % model_fitted.k_ar)\n",
    " \n",
    "# print('The coefficients of the model are:\\n %s' % model_fitted.params)"
   ]
  },
  {
   "cell_type": "code",
   "execution_count": 109,
   "metadata": {},
   "outputs": [
    {
     "data": {
      "text/plain": [
       "19    1.925477\n",
       "20    1.999194\n",
       "21    2.096811\n",
       "22    1.940011\n",
       "23    1.854348\n",
       "24    1.892652\n",
       "25    2.030160\n",
       "26    2.058399\n",
       "27    1.950916\n",
       "dtype: float64"
      ]
     },
     "execution_count": 109,
     "metadata": {},
     "output_type": "execute_result"
    }
   ],
   "source": [
    "# # make predictions \n",
    "# predictions = model_fitted.predict(\n",
    "#     start=len(train_data), \n",
    "#     end=len(train_data) + len(test_data)-1, \n",
    "#     dynamic=False)\n",
    "\n",
    "# predictions"
   ]
  },
  {
   "cell_type": "code",
   "execution_count": 110,
   "metadata": {},
   "outputs": [
    {
     "data": {
      "text/plain": [
       "<matplotlib.axes._subplots.AxesSubplot at 0x1c20559780>"
      ]
     },
     "execution_count": 110,
     "metadata": {},
     "output_type": "execute_result"
    },
    {
     "data": {
      "image/png": "[encoded data removed]",
      "text/plain": [
       "<Figure size 432x288 with 1 Axes>"
      ]
     },
     "metadata": {
      "needs_background": "light"
     },
     "output_type": "display_data"
    }
   ],
   "source": [
    "# # create a comparison dataframe\n",
    "# compare_df = pd.concat(\n",
    "#     [df_creatinine.tail(len(test_data)), predictions.tail(len(train_data))], \n",
    "#     axis=1, ignore_index=True).rename(columns={0: 'actual', 1:'predicted'})\n",
    "\n",
    "# #plot the two values\n",
    "# compare_df.plot()"
   ]
  },
  {
   "cell_type": "code",
   "execution_count": 111,
   "metadata": {},
   "outputs": [
    {
     "data": {
      "text/plain": [
       "-0.8693296055764432"
      ]
     },
     "execution_count": 111,
     "metadata": {},
     "output_type": "execute_result"
    }
   ],
   "source": [
    "# # root mean square error\n",
    "# from sklearn.metrics import r2_score\n",
    " \n",
    "# r2 = r2_score(df_creatinine.tail(len(test_data)), predictions)\n",
    "# r2"
   ]
  },
  {
   "cell_type": "code",
   "execution_count": null,
   "metadata": {},
   "outputs": [],
   "source": []
  }
 ],
 "metadata": {
  "kernelspec": {
   "display_name": "Python 3",
   "language": "python",
   "name": "python3"
  },
  "language_info": {
   "codemirror_mode": {
    "name": "ipython",
    "version": 3
   },
   "file_extension": ".py",
   "mimetype": "text/x-python",
   "name": "python",
   "nbconvert_exporter": "python",
   "pygments_lexer": "ipython3",
   "version": "3.7.0"
  }
 },
 "nbformat": 4,
 "nbformat_minor": 2
}
