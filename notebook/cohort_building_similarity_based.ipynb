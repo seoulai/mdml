{
 "cells": [
  {
   "cell_type": "code",
   "execution_count": 1,
   "metadata": {},
   "outputs": [],
   "source": [
    "# Similar patients\n",
    "# Time series can be applied with two approaches: 1. similarity-based(distance) and 2. feature-based"
   ]
  },
  {
   "cell_type": "code",
   "execution_count": 2,
   "metadata": {},
   "outputs": [],
   "source": [
    "from gensim.corpora import Dictionary\n",
    "from gensim.models import ldamodel\n",
    "from gensim.matutils import kullback_leibler, jaccard, hellinger, sparse2full\n",
    "import numpy"
   ]
  },
  {
   "cell_type": "code",
   "execution_count": 3,
   "metadata": {},
   "outputs": [],
   "source": [
    "MOST_SIMILAR_PAT_NUM = 500"
   ]
  },
  {
   "cell_type": "markdown",
   "metadata": {},
   "source": [
    "## Diagnoses"
   ]
  },
  {
   "cell_type": "code",
   "execution_count": 4,
   "metadata": {},
   "outputs": [
    {
     "data": {
      "text/plain": [
       "(5409, 5)"
      ]
     },
     "execution_count": 4,
     "metadata": {},
     "output_type": "execute_result"
    }
   ],
   "source": [
    "diagnoses = pd.read_csv('/Users/grace/mimic/csv/DIAGNOSES_ICD.csv', sep=',')\n",
    "diagnoses[diagnoses.ICD9_CODE.isin(['77181', '99591', '99592', '67020', '67022', '67024'])].shape"
   ]
  },
  {
   "cell_type": "code",
   "execution_count": 5,
   "metadata": {},
   "outputs": [
    {
     "data": {
      "text/plain": [
       "array([  117,   124,    64, ..., 95803, 97143, 97158])"
      ]
     },
     "execution_count": 5,
     "metadata": {},
     "output_type": "execute_result"
    }
   ],
   "source": [
    "sepsis_patients = diagnoses[diagnoses.ICD9_CODE.isin(['77181', '99591', '99592', '67020', '67022', '67024'])]['SUBJECT_ID'].unique()\n",
    "sepsis_patients"
   ]
  },
  {
   "cell_type": "code",
   "execution_count": 6,
   "metadata": {},
   "outputs": [
    {
     "data": {
      "text/plain": [
       "array(['0389', '4275', '78551', '4260', '4210', '40391', '25041', '2767',\n",
       "       'V4975', '99592', '41092', '99662', '03842', '2869', '99681',\n",
       "       '4254', '2851', 'V5867', '51889', '7904', '71941', '0383', '70703',\n",
       "       '78552', '07070', '28521', '40301', '43491', '4372', '2720',\n",
       "       '25051', '2761', '36201', '431', '3314', '7070', '25081', '78039',\n",
       "       '51881'], dtype=object)"
      ]
     },
     "execution_count": 6,
     "metadata": {},
     "output_type": "execute_result"
    }
   ],
   "source": [
    "#seed patient\n",
    "unique_d_for_25030 = diagnoses[diagnoses.SUBJECT_ID==25030]['ICD9_CODE'].unique()\n",
    "unique_d_for_25030"
   ]
  },
  {
   "cell_type": "code",
   "execution_count": 7,
   "metadata": {},
   "outputs": [],
   "source": [
    "def get_patient_info(groupby_col, collection_col, target_df):\n",
    "    patients = {}\n",
    "    for i, grp in target_df.groupby(groupby_col):\n",
    "    #     print(i)\n",
    "        if i == 25030:\n",
    "            continue\n",
    "        else:\n",
    "            patients[i] = list(map(lambda x: str(x), grp[collection_col].unique()))\n",
    "    return patients\n",
    "\n",
    "patients = get_patient_info('SUBJECT_ID', 'ICD9_CODE', diagnoses[diagnoses.SUBJECT_ID.isin(sepsis_patients)])"
   ]
  },
  {
   "cell_type": "code",
   "execution_count": 8,
   "metadata": {},
   "outputs": [],
   "source": [
    "def jaccard_index(first_set, second_set):\n",
    "    \"\"\" Computes jaccard index of two sets\n",
    "        Arguments:\n",
    "          first_set(set):\n",
    "          second_set(set):\n",
    "        Returns:\n",
    "          index(float): Jaccard index between two sets; it is \n",
    "            between 0.0 and 1.0\n",
    "    \"\"\"\n",
    "    # If both sets are empty, jaccard index is defined to be 1\n",
    "    index = 1.0\n",
    "    if first_set or second_set:\n",
    "        index = (float(len(first_set.intersection(second_set))) \n",
    "             / len(first_set.union(second_set)))\n",
    "\n",
    "    return index"
   ]
  },
  {
   "cell_type": "code",
   "execution_count": 9,
   "metadata": {},
   "outputs": [
    {
     "name": "stdout",
     "output_type": "stream",
     "text": [
      "0.09523809523809523\n"
     ]
    }
   ],
   "source": [
    "first_set = set(patients[21])\n",
    "second_set = set(patients[38])\n",
    "index = jaccard_index(first_set, second_set)\n",
    "print(index)"
   ]
  },
  {
   "cell_type": "code",
   "execution_count": 10,
   "metadata": {},
   "outputs": [
    {
     "data": {
      "text/plain": [
       "4780"
      ]
     },
     "execution_count": 10,
     "metadata": {},
     "output_type": "execute_result"
    }
   ],
   "source": [
    "len(patients)"
   ]
  },
  {
   "cell_type": "code",
   "execution_count": 11,
   "metadata": {},
   "outputs": [],
   "source": [
    "#find similar patients to 25030\n",
    "\n",
    "d_for_25030 = set(unique_d_for_25030)\n",
    "\n",
    "def compute_jaccard(base_set, rest_dic):\n",
    "    jac_dic = []\n",
    "    for i in rest_dic.keys():\n",
    "#         print(base_set.intersection(set(rest_dic[i])))\n",
    "        jac_dic.append({'SUBJECT_ID': i,\n",
    "        'jaccard_index': jaccard_index(base_set, set(rest_dic[i])),\n",
    "        'set':rest_dic[i]})\n",
    "\n",
    "    return jac_dic"
   ]
  },
  {
   "cell_type": "code",
   "execution_count": 12,
   "metadata": {},
   "outputs": [],
   "source": [
    "jac_dic = compute_jaccard(d_for_25030, patients)"
   ]
  },
  {
   "cell_type": "code",
   "execution_count": 13,
   "metadata": {},
   "outputs": [],
   "source": [
    "jac_df = pd.DataFrame(jac_dic)\n",
    "# jac_df.head()"
   ]
  },
  {
   "cell_type": "code",
   "execution_count": 14,
   "metadata": {},
   "outputs": [],
   "source": [
    "pd.set_option('display.max_rows', None)\n",
    "pd.set_option('display.max_colwidth', -1)  "
   ]
  },
  {
   "cell_type": "code",
   "execution_count": 15,
   "metadata": {},
   "outputs": [
    {
     "data": {
      "text/html": [
       "<div>\n",
       "<style scoped>\n",
       "    .dataframe tbody tr th:only-of-type {\n",
       "        vertical-align: middle;\n",
       "    }\n",
       "\n",
       "    .dataframe tbody tr th {\n",
       "        vertical-align: top;\n",
       "    }\n",
       "\n",
       "    .dataframe thead th {\n",
       "        text-align: right;\n",
       "    }\n",
       "</style>\n",
       "<table border=\"1\" class=\"dataframe\">\n",
       "  <thead>\n",
       "    <tr style=\"text-align: right;\">\n",
       "      <th></th>\n",
       "      <th>SUBJECT_ID</th>\n",
       "      <th>jaccard_index</th>\n",
       "      <th>set</th>\n",
       "    </tr>\n",
       "  </thead>\n",
       "  <tbody>\n",
       "    <tr>\n",
       "      <th>1038</th>\n",
       "      <td>12733</td>\n",
       "      <td>0.208333</td>\n",
       "      <td>[44023, 4280, 5856, 40391, 70714, 25000, V1082, 0389, 51881, 42842, 78552, 4271, 41071, 00845, 72886, 7854, 99592, 2720, V4975, 4439, V4581, 412, 70705, 70703, 70720, 0272, 1125, 71103, 99662, 6824, 99702, 43491, 4275, 6822, 570, 70723, 94421, E9248, 28521, 43310, V5867, 25080, 25050, 36201, 99769, 5789, 2851, 4589]</td>\n",
       "    </tr>\n",
       "    <tr>\n",
       "      <th>146</th>\n",
       "      <td>1795</td>\n",
       "      <td>0.203704</td>\n",
       "      <td>[0389, 41071, 4280, 78552, 40391, 5856, 44024, 2761, 4254, 5119, 570, 431, 2869, 25070, 99592, 4589, 41401, 25060, 25050, 5363, 36201, 2720, 04111, 73300, V5867, V090]</td>\n",
       "    </tr>\n",
       "    <tr>\n",
       "      <th>1404</th>\n",
       "      <td>17564</td>\n",
       "      <td>0.200000</td>\n",
       "      <td>[99662, 03811, 99592, 78552, 5990, 70714, 40391, 5856, 2761, 4538, 2851, 00845, 0417, 44023, 25040, V5867, 45184, 73028, 72290, 4592, 4280, 0389, 51881, 2767, 5070, 70703, 37601]</td>\n",
       "    </tr>\n",
       "    <tr>\n",
       "      <th>4185</th>\n",
       "      <td>82512</td>\n",
       "      <td>0.190476</td>\n",
       "      <td>[4241, 5845, 0389, 99592, 51881, 486, 4254, 42822, 70714, 4271, 2851, 99681, 5119, 2762, 2761, V707, V4501, V4973, 4019, 2720, 4168, 4439, V1251, 41401, V4582, 42731, 4280, 32723, 58381, 25041, 4275, 42741, 2875, E8780, 78551, 2767]</td>\n",
       "    </tr>\n",
       "    <tr>\n",
       "      <th>1568</th>\n",
       "      <td>19632</td>\n",
       "      <td>0.175439</td>\n",
       "      <td>[431, 496, 4280, 3314, 4439, 25000, 53081, 4019, 99662, 03811, 99592, 51881, 78552, 40391, 2874, 4538, V4581, 28521, 25060, 3572, 25040, 4271, 2639, 2869, V090, V4975, V4976, V180]</td>\n",
       "    </tr>\n",
       "  </tbody>\n",
       "</table>\n",
       "</div>"
      ],
      "text/plain": [
       "      SUBJECT_ID  jaccard_index  \\\n",
       "1038  12733       0.208333        \n",
       "146   1795        0.203704        \n",
       "1404  17564       0.200000        \n",
       "4185  82512       0.190476        \n",
       "1568  19632       0.175439        \n",
       "\n",
       "                                                                                                                                                                                                                                                                                                                                set  \n",
       "1038  [44023, 4280, 5856, 40391, 70714, 25000, V1082, 0389, 51881, 42842, 78552, 4271, 41071, 00845, 72886, 7854, 99592, 2720, V4975, 4439, V4581, 412, 70705, 70703, 70720, 0272, 1125, 71103, 99662, 6824, 99702, 43491, 4275, 6822, 570, 70723, 94421, E9248, 28521, 43310, V5867, 25080, 25050, 36201, 99769, 5789, 2851, 4589]  \n",
       "146   [0389, 41071, 4280, 78552, 40391, 5856, 44024, 2761, 4254, 5119, 570, 431, 2869, 25070, 99592, 4589, 41401, 25060, 25050, 5363, 36201, 2720, 04111, 73300, V5867, V090]                                                                                                                                                        \n",
       "1404  [99662, 03811, 99592, 78552, 5990, 70714, 40391, 5856, 2761, 4538, 2851, 00845, 0417, 44023, 25040, V5867, 45184, 73028, 72290, 4592, 4280, 0389, 51881, 2767, 5070, 70703, 37601]                                                                                                                                             \n",
       "4185  [4241, 5845, 0389, 99592, 51881, 486, 4254, 42822, 70714, 4271, 2851, 99681, 5119, 2762, 2761, V707, V4501, V4973, 4019, 2720, 4168, 4439, V1251, 41401, V4582, 42731, 4280, 32723, 58381, 25041, 4275, 42741, 2875, E8780, 78551, 2767]                                                                                       \n",
       "1568  [431, 496, 4280, 3314, 4439, 25000, 53081, 4019, 99662, 03811, 99592, 51881, 78552, 40391, 2874, 4538, V4581, 28521, 25060, 3572, 25040, 4271, 2639, 2869, V090, V4975, V4976, V180]                                                                                                                                           "
      ]
     },
     "execution_count": 15,
     "metadata": {},
     "output_type": "execute_result"
    }
   ],
   "source": [
    "jac_df[jac_df.jaccard_index>0.1].sort_values(by='jaccard_index', ascending=False)[:5]"
   ]
  },
  {
   "cell_type": "code",
   "execution_count": 16,
   "metadata": {},
   "outputs": [],
   "source": [
    "similar_by_d = jac_df[jac_df.jaccard_index>0.1].sort_values(by='jaccard_index', ascending=False).SUBJECT_ID.unique()[:MOST_SIMILAR_PAT_NUM]\n",
    "# similar_by_d"
   ]
  },
  {
   "cell_type": "markdown",
   "metadata": {},
   "source": [
    "## Lab"
   ]
  },
  {
   "cell_type": "code",
   "execution_count": 17,
   "metadata": {},
   "outputs": [],
   "source": [
    "labs = pd.read_csv('/Users/grace/mimic/csv/LABEVENTS.csv', sep=',')\n",
    "# labs.head()"
   ]
  },
  {
   "cell_type": "code",
   "execution_count": 18,
   "metadata": {},
   "outputs": [],
   "source": [
    "lab_items = pd.read_csv('/Users/grace/mimic/csv/D_LABITEMS.csv', sep=',')\n",
    "# lab_items.head()"
   ]
  },
  {
   "cell_type": "code",
   "execution_count": 19,
   "metadata": {},
   "outputs": [],
   "source": [
    "lab_patients = get_patient_info('SUBJECT_ID', 'ITEMID', labs)"
   ]
  },
  {
   "cell_type": "code",
   "execution_count": 20,
   "metadata": {},
   "outputs": [],
   "source": [
    "#find similar patients to 25030\n",
    "\n",
    "unique_lab_for_25030 = set(map(lambda x: str(x), labs[labs.SUBJECT_ID==25030]['ITEMID'].unique()))\n",
    "jac_dic_lab = compute_jaccard(unique_lab_for_25030, lab_patients)"
   ]
  },
  {
   "cell_type": "code",
   "execution_count": 21,
   "metadata": {},
   "outputs": [],
   "source": [
    "jac_lab_df = pd.DataFrame(jac_dic_lab)\n",
    "# jac_lab_df[jac_lab_df.jaccard_index>0.0].sort_values(by='jaccard_index', ascending=False)[:10]\n",
    "similar_by_lab = jac_lab_df[jac_lab_df.jaccard_index>0.0].sort_values(by='jaccard_index', ascending=False).SUBJECT_ID.unique()[:MOST_SIMILAR_PAT_NUM]"
   ]
  },
  {
   "cell_type": "markdown",
   "metadata": {},
   "source": [
    "## Procedure"
   ]
  },
  {
   "cell_type": "code",
   "execution_count": 22,
   "metadata": {},
   "outputs": [],
   "source": [
    "proc = pd.read_csv('/Users/grace/mimic/csv/PROCEDURES_ICD.csv', sep=',')\n",
    "# proc.head()"
   ]
  },
  {
   "cell_type": "code",
   "execution_count": 23,
   "metadata": {},
   "outputs": [],
   "source": [
    "proc_patients = get_patient_info('SUBJECT_ID', 'ICD9_CODE', proc)"
   ]
  },
  {
   "cell_type": "code",
   "execution_count": 24,
   "metadata": {},
   "outputs": [],
   "source": [
    "#find similar patients to 25030\n",
    "\n",
    "unique_proc_for_25030 = set(map(lambda x: str(x), proc[proc.SUBJECT_ID==25030]['ICD9_CODE'].unique()))\n",
    "jac_dic_proc = compute_jaccard(unique_proc_for_25030, proc_patients)"
   ]
  },
  {
   "cell_type": "code",
   "execution_count": 25,
   "metadata": {},
   "outputs": [],
   "source": [
    "jac_proc_df = pd.DataFrame(jac_dic_proc)\n",
    "# jac_proc_df[jac_proc_df.jaccard_index>0.0].sort_values(by='jaccard_index', ascending=False)[:10]\n",
    "similar_by_proc = jac_proc_df[jac_proc_df.jaccard_index>0.0].sort_values(by='jaccard_index', ascending=False).SUBJECT_ID.unique()[:MOST_SIMILAR_PAT_NUM]"
   ]
  },
  {
   "cell_type": "markdown",
   "metadata": {},
   "source": [
    "## Prescription"
   ]
  },
  {
   "cell_type": "code",
   "execution_count": 26,
   "metadata": {},
   "outputs": [
    {
     "name": "stderr",
     "output_type": "stream",
     "text": [
      "/Users/grace/workspace/keras/venv/lib/python3.6/site-packages/IPython/core/interactiveshell.py:2728: DtypeWarning:\n",
      "\n",
      "Columns (11) have mixed types. Specify dtype option on import or set low_memory=False.\n",
      "\n"
     ]
    }
   ],
   "source": [
    "pres = pd.read_csv('/Users/grace/mimic/csv/PRESCRIPTIONS.csv', sep=',')\n",
    "# pres.head()"
   ]
  },
  {
   "cell_type": "code",
   "execution_count": 27,
   "metadata": {},
   "outputs": [
    {
     "data": {
      "text/plain": [
       "ROW_ID               0      \n",
       "SUBJECT_ID           0      \n",
       "HADM_ID              0      \n",
       "ICUSTAY_ID           1447708\n",
       "STARTDATE            3182   \n",
       "ENDDATE              5421   \n",
       "DRUG_TYPE            0      \n",
       "DRUG                 0      \n",
       "DRUG_NAME_POE        1664234\n",
       "DRUG_NAME_GENERIC    1662989\n",
       "FORMULARY_DRUG_CD    1933   \n",
       "GSN                  507164 \n",
       "NDC                  4463   \n",
       "PROD_STRENGTH        1362   \n",
       "DOSE_VAL_RX          1350   \n",
       "DOSE_UNIT_RX         1342   \n",
       "FORM_VAL_DISP        1355   \n",
       "FORM_UNIT_DISP       1409   \n",
       "ROUTE                1156   \n",
       "dtype: int64"
      ]
     },
     "execution_count": 27,
     "metadata": {},
     "output_type": "execute_result"
    }
   ],
   "source": [
    "pres.isna().sum()"
   ]
  },
  {
   "cell_type": "code",
   "execution_count": 28,
   "metadata": {},
   "outputs": [],
   "source": [
    "pres_patients = get_patient_info('SUBJECT_ID', 'DRUG', pres)"
   ]
  },
  {
   "cell_type": "code",
   "execution_count": 29,
   "metadata": {},
   "outputs": [],
   "source": [
    "#find similar patients to 25030\n",
    "\n",
    "unique_pres_for_25030 = set(map(lambda x: str(x), pres[pres.SUBJECT_ID==25030]['DRUG'].unique()))\n",
    "jac_dic_pres = compute_jaccard(unique_pres_for_25030, pres_patients)"
   ]
  },
  {
   "cell_type": "code",
   "execution_count": 30,
   "metadata": {},
   "outputs": [],
   "source": [
    "jac_pres_df = pd.DataFrame(jac_dic_pres)\n",
    "# jac_pres_df[jac_pres_df.jaccard_index>0.0].sort_values(by='jaccard_index', ascending=False)[:10]\n",
    "similar_by_pres = jac_pres_df[jac_pres_df.jaccard_index>0.0].sort_values(by='jaccard_index', ascending=False).SUBJECT_ID.unique()[:MOST_SIMILAR_PAT_NUM]"
   ]
  },
  {
   "cell_type": "markdown",
   "metadata": {},
   "source": [
    "## 가장 비슷한 환자 Top 500 중 4개 모든 항목에 포함된 환자"
   ]
  },
  {
   "cell_type": "code",
   "execution_count": 31,
   "metadata": {},
   "outputs": [
    {
     "data": {
      "text/plain": [
       "{1982, 6613, 17863, 17977, 26139}"
      ]
     },
     "execution_count": 31,
     "metadata": {},
     "output_type": "execute_result"
    }
   ],
   "source": [
    "set(similar_by_d).intersection(set(similar_by_lab)).intersection(set(similar_by_proc)).intersection(set(similar_by_pres))"
   ]
  },
  {
   "cell_type": "code",
   "execution_count": 38,
   "metadata": {},
   "outputs": [
    {
     "name": "stdout",
     "output_type": "stream",
     "text": [
      "{27905, 3841, 17795, 17668, 15875, 19592, 19851, 22283, 3852, 14990, 17423, 27280, 22289, 7062, 14873, 3866, 26139, 5281, 26274, 28457, 86314, 19632, 14641, 17330, 29872, 50743, 17977, 81593, 1982, 17863, 77383, 9800, 588, 1356, 11724, 12237, 65232, 8915, 6613, 26709, 17112, 16351, 26208, 21990, 96232, 19177, 26601, 26219, 23533, 9206, 22394, 32763, 6908}\n",
      "{15749, 25225, 3722, 19851, 14990, 17423, 16014, 5909, 14873, 29466, 26139, 6428, 3866, 8734, 5666, 24995, 19620, 26274, 20133, 2984, 29866, 4655, 433, 90802, 9266, 18996, 11318, 21431, 12856, 17977, 1982, 24510, 5824, 20546, 1988, 7621, 4678, 17863, 18252, 12237, 6613, 54229, 16855, 2136, 13401, 19038, 24032, 353, 4577, 4962, 21990, 13033, 21613, 7666, 13938, 26868, 9206, 11003}\n",
      "{3841, 899, 1544, 7062, 4760, 26139, 17564, 1436, 8734, 19236, 19620, 9768, 16558, 1967, 9266, 11318, 21431, 17977, 6334, 1982, 24510, 20546, 323, 7237, 20678, 17863, 19911, 9800, 22475, 18252, 15057, 15570, 6613, 16855, 2136, 18649, 1113, 1114, 3804, 3294, 223, 4577, 13033, 234, 2539, 15209, 23533, 13806, 26219, 16112, 7666, 5752, 6908, 23549}\n",
      "{773, 9478, 16775, 4104, 25736, 17670, 19851, 55180, 19213, 14990, 17423, 12174, 32529, 19986, 31123, 14873, 3866, 26139, 20124, 26274, 82211, 19493, 58662, 24746, 1709, 29105, 689, 3891, 3893, 17977, 13882, 1982, 17344, 13761, 22208, 31813, 4679, 17863, 14793, 21321, 19401, 13514, 4685, 16072, 17743, 720, 12237, 42196, 6613, 3927, 1754, 12508, 23390, 19583, 24289, 357, 21990, 4071, 10731, 4589, 25326, 5869, 14191, 59889, 7538, 12915, 25332, 12272, 9206, 3967, 2040, 66557, 23039}\n",
      "{4104, 9233, 2586, 26139, 8734, 10280, 12847, 9266, 16947, 11318, 17977, 13882, 20546, 4685, 2136, 20577, 16994, 24178, 12403, 17021, 145, 6292, 20124, 157, 12961, 19620, 24746, 23211, 8364, 17072, 17083, 10950, 13514, 18126, 720, 20181, 2265, 12508, 24289, 21734, 21223, 13543, 13033, 11007, 19213, 16655, 19731, 13599, 24868, 6440, 25385, 7466, 3891, 22855, 21321, 18252, 3929, 17758, 11626, 14191, 7538, 15733, 20367, 405, 24486, 3506, 1972, 23990, 21431, 17339, 1982, 24510, 13761, 5570, 15812, 17863, 14793, 21965, 6613, 16855, 10206, 4577, 9186, 10209, 2025, 10731, 4589, 7666, 2040, 7161, 24573}\n",
      "{16384, 21249, 2178, 3841, 10375, 4104, 7175, 19213, 16020, 22421, 7062, 26519, 8472, 2040, 26139, 20124, 22560, 22818, 24746, 2990, 18992, 3891, 22581, 17977, 13882, 12091, 1982, 21312, 13761, 16194, 22464, 24903, 17863, 14793, 21321, 13514, 9800, 4685, 18119, 720, 23762, 24915, 6613, 25430, 15066, 19674, 12508, 2397, 17629, 4833, 24289, 4196, 15716, 10726, 23014, 10731, 26219, 4589, 23533, 14191, 15602, 7538, 12408, 6908, 5247}\n"
     ]
    }
   ],
   "source": [
    "### diagnoses + procedure\n",
    "print(set(similar_by_d).intersection(set(similar_by_proc)))\n",
    "\n",
    "### diagnoses + lab\n",
    "print(set(similar_by_d).intersection(set(similar_by_lab)))\n",
    "\n",
    "### diagnoses + prescription\n",
    "print(set(similar_by_d).intersection(set(similar_by_pres)))\n",
    "\n",
    "### lab + procedure\n",
    "print(set(similar_by_lab).intersection(set(similar_by_proc)))\n",
    "\n",
    "### lab + prescription\n",
    "print(set(similar_by_lab).intersection(set(similar_by_pres)))\n",
    "\n",
    "### prescription + procedure\n",
    "print(set(similar_by_pres).intersection(set(similar_by_proc)))"
   ]
  },
  {
   "cell_type": "code",
   "execution_count": null,
   "metadata": {},
   "outputs": [],
   "source": []
  }
 ],
 "metadata": {
  "kernelspec": {
   "display_name": "Python 3",
   "language": "python",
   "name": "python3"
  },
  "language_info": {
   "codemirror_mode": {
    "name": "ipython",
    "version": 3
   },
   "file_extension": ".py",
   "mimetype": "text/x-python",
   "name": "python",
   "nbconvert_exporter": "python",
   "pygments_lexer": "ipython3",
   "version": "3.6.4"
  }
 },
 "nbformat": 4,
 "nbformat_minor": 2
}
